{
  "nbformat": 4,
  "nbformat_minor": 0,
  "metadata": {
    "colab": {
      "name": "InsDetek 2.0.ipynb",
      "provenance": [],
      "collapsed_sections": [],
      "toc_visible": true,
      "include_colab_link": true
    },
    "kernelspec": {
      "name": "python3",
      "display_name": "Python 3"
    },
    "language_info": {
      "name": "python"
    }
  },
  "cells": [
    {
      "cell_type": "markdown",
      "metadata": {
        "id": "view-in-github",
        "colab_type": "text"
      },
      "source": [
        "<a href=\"https://colab.research.google.com/github/SigmaGQ/InsDetek/blob/main/InsDetek_2_0.ipynb\" target=\"_parent\"><img src=\"https://colab.research.google.com/assets/colab-badge.svg\" alt=\"Open In Colab\"/></a>"
      ]
    },
    {
      "cell_type": "markdown",
      "source": [
        "# Colab Setting"
      ],
      "metadata": {
        "id": "zdRDktLsiyRN"
      }
    },
    {
      "cell_type": "code",
      "source": [
        "import os\n",
        "from google.colab import drive\n",
        "# mount Google drive\n",
        "drive.mount('/content/drive')\n",
        "\n",
        "\n",
        "# by default everything gets executed and saved in 'Berkeley Capstone (Students)'\n",
        "# notebook_path = '/content/drive/MyDrive/Berkeley Capstone (Students)/Code' # WK\n",
        "notebook_path = '/content/drive/MyDrive/Capstone/Berkeley Capstone (Students)/Code' # GQ\n",
        "os.chdir(notebook_path)\n",
        "\n",
        "!echo -e \"\\nCurrent directory:\"\n",
        "!pwd"
      ],
      "metadata": {
        "id": "QPR6tbh7i3cB",
        "colab": {
          "base_uri": "https://localhost:8080/"
        },
        "outputId": "e38efed7-9828-4516-c251-3d02fa1fb5b9"
      },
      "execution_count": null,
      "outputs": [
        {
          "output_type": "stream",
          "name": "stdout",
          "text": [
            "Mounted at /content/drive\n",
            "\n",
            "Current directory:\n",
            "/content/drive/.shortcut-targets-by-id/1yBERxWlYaZqd2aPZEzBr21t8G6McvwZA/Berkeley Capstone (Students)/Code\n"
          ]
        }
      ]
    },
    {
      "cell_type": "markdown",
      "source": [
        "# Data Loading"
      ],
      "metadata": {
        "id": "3yekK7OvizAs"
      }
    },
    {
      "cell_type": "code",
      "source": [
        "import numpy as np\n",
        "import pandas as pd\n",
        "from tqdm import tqdm, trange"
      ],
      "metadata": {
        "id": "lYY15TthnxhT"
      },
      "execution_count": null,
      "outputs": []
    },
    {
      "cell_type": "markdown",
      "source": [
        "## By Week"
      ],
      "metadata": {
        "id": "lWBbQOfVnjlM"
      }
    },
    {
      "cell_type": "code",
      "source": [
        "week_df = pd.read_csv('./ExtractedData/weekr4.2.csv')\n",
        "week_df.head()"
      ],
      "metadata": {
        "colab": {
          "base_uri": "https://localhost:8080/",
          "height": 317
        },
        "id": "IeHCBRJrnorg",
        "outputId": "e6ba84a4-aa79-46aa-f68d-885722df804a"
      },
      "execution_count": null,
      "outputs": [
        {
          "output_type": "execute_result",
          "data": {
            "text/html": [
              "\n",
              "  <div id=\"df-21b47caf-146c-458b-838a-7203be5ff595\">\n",
              "    <div class=\"colab-df-container\">\n",
              "      <div>\n",
              "<style scoped>\n",
              "    .dataframe tbody tr th:only-of-type {\n",
              "        vertical-align: middle;\n",
              "    }\n",
              "\n",
              "    .dataframe tbody tr th {\n",
              "        vertical-align: top;\n",
              "    }\n",
              "\n",
              "    .dataframe thead th {\n",
              "        text-align: right;\n",
              "    }\n",
              "</style>\n",
              "<table border=\"1\" class=\"dataframe\">\n",
              "  <thead>\n",
              "    <tr style=\"text-align: right;\">\n",
              "      <th></th>\n",
              "      <th>starttime</th>\n",
              "      <th>endtime</th>\n",
              "      <th>user</th>\n",
              "      <th>week</th>\n",
              "      <th>role</th>\n",
              "      <th>b_unit</th>\n",
              "      <th>f_unit</th>\n",
              "      <th>dept</th>\n",
              "      <th>team</th>\n",
              "      <th>ITAdmin</th>\n",
              "      <th>O</th>\n",
              "      <th>C</th>\n",
              "      <th>E</th>\n",
              "      <th>A</th>\n",
              "      <th>N</th>\n",
              "      <th>n_allact</th>\n",
              "      <th>allact_n-pc0</th>\n",
              "      <th>allact_n-pc1</th>\n",
              "      <th>allact_n-pc2</th>\n",
              "      <th>allact_n-pc3</th>\n",
              "      <th>n_workhourallact</th>\n",
              "      <th>workhourallact_n-pc0</th>\n",
              "      <th>workhourallact_n-pc1</th>\n",
              "      <th>workhourallact_n-pc2</th>\n",
              "      <th>workhourallact_n-pc3</th>\n",
              "      <th>n_afterhourallact</th>\n",
              "      <th>afterhourallact_n-pc0</th>\n",
              "      <th>afterhourallact_n-pc1</th>\n",
              "      <th>afterhourallact_n-pc2</th>\n",
              "      <th>afterhourallact_n-pc3</th>\n",
              "      <th>n_weekendallact</th>\n",
              "      <th>weekendallact_n-pc0</th>\n",
              "      <th>weekendallact_n-pc1</th>\n",
              "      <th>weekendallact_n-pc2</th>\n",
              "      <th>weekendallact_n-pc3</th>\n",
              "      <th>n_logon</th>\n",
              "      <th>logon_n-pc0</th>\n",
              "      <th>logon_n-pc1</th>\n",
              "      <th>logon_n-pc2</th>\n",
              "      <th>logon_n-pc3</th>\n",
              "      <th>...</th>\n",
              "      <th>weekendhttp_socnetf_n-pc1</th>\n",
              "      <th>weekendhttp_socnetf_n-pc2</th>\n",
              "      <th>weekendhttp_socnetf_n-pc3</th>\n",
              "      <th>weekendhttp_n_cloudf</th>\n",
              "      <th>weekendhttp_cloudf_mean_url_len</th>\n",
              "      <th>weekendhttp_cloudf_mean_url_depth</th>\n",
              "      <th>weekendhttp_cloudf_mean_http_c_len</th>\n",
              "      <th>weekendhttp_cloudf_mean_http_c_nwords</th>\n",
              "      <th>weekendhttp_cloudf_n-pc0</th>\n",
              "      <th>weekendhttp_cloudf_n-pc1</th>\n",
              "      <th>weekendhttp_cloudf_n-pc2</th>\n",
              "      <th>weekendhttp_cloudf_n-pc3</th>\n",
              "      <th>weekendhttp_n_jobf</th>\n",
              "      <th>weekendhttp_jobf_mean_url_len</th>\n",
              "      <th>weekendhttp_jobf_mean_url_depth</th>\n",
              "      <th>weekendhttp_jobf_mean_http_c_len</th>\n",
              "      <th>weekendhttp_jobf_mean_http_c_nwords</th>\n",
              "      <th>weekendhttp_jobf_n-pc0</th>\n",
              "      <th>weekendhttp_jobf_n-pc1</th>\n",
              "      <th>weekendhttp_jobf_n-pc2</th>\n",
              "      <th>weekendhttp_jobf_n-pc3</th>\n",
              "      <th>weekendhttp_n_leakf</th>\n",
              "      <th>weekendhttp_leakf_mean_url_len</th>\n",
              "      <th>weekendhttp_leakf_mean_url_depth</th>\n",
              "      <th>weekendhttp_leakf_mean_http_c_len</th>\n",
              "      <th>weekendhttp_leakf_mean_http_c_nwords</th>\n",
              "      <th>weekendhttp_leakf_n-pc0</th>\n",
              "      <th>weekendhttp_leakf_n-pc1</th>\n",
              "      <th>weekendhttp_leakf_n-pc2</th>\n",
              "      <th>weekendhttp_leakf_n-pc3</th>\n",
              "      <th>weekendhttp_n_hackf</th>\n",
              "      <th>weekendhttp_hackf_mean_url_len</th>\n",
              "      <th>weekendhttp_hackf_mean_url_depth</th>\n",
              "      <th>weekendhttp_hackf_mean_http_c_len</th>\n",
              "      <th>weekendhttp_hackf_mean_http_c_nwords</th>\n",
              "      <th>weekendhttp_hackf_n-pc0</th>\n",
              "      <th>weekendhttp_hackf_n-pc1</th>\n",
              "      <th>weekendhttp_hackf_n-pc2</th>\n",
              "      <th>weekendhttp_hackf_n-pc3</th>\n",
              "      <th>insider</th>\n",
              "    </tr>\n",
              "  </thead>\n",
              "  <tbody>\n",
              "    <tr>\n",
              "      <th>0</th>\n",
              "      <td>1.262506e+09</td>\n",
              "      <td>1.263110e+09</td>\n",
              "      <td>0</td>\n",
              "      <td>1</td>\n",
              "      <td>6</td>\n",
              "      <td>0</td>\n",
              "      <td>1</td>\n",
              "      <td>11</td>\n",
              "      <td>20</td>\n",
              "      <td>0</td>\n",
              "      <td>40</td>\n",
              "      <td>39</td>\n",
              "      <td>36</td>\n",
              "      <td>19</td>\n",
              "      <td>40</td>\n",
              "      <td>533</td>\n",
              "      <td>533</td>\n",
              "      <td>0</td>\n",
              "      <td>0</td>\n",
              "      <td>0</td>\n",
              "      <td>475</td>\n",
              "      <td>475</td>\n",
              "      <td>0</td>\n",
              "      <td>0</td>\n",
              "      <td>0</td>\n",
              "      <td>58</td>\n",
              "      <td>58</td>\n",
              "      <td>0</td>\n",
              "      <td>0</td>\n",
              "      <td>0</td>\n",
              "      <td>0</td>\n",
              "      <td>0</td>\n",
              "      <td>0</td>\n",
              "      <td>0</td>\n",
              "      <td>0</td>\n",
              "      <td>9</td>\n",
              "      <td>9</td>\n",
              "      <td>0</td>\n",
              "      <td>0</td>\n",
              "      <td>0</td>\n",
              "      <td>...</td>\n",
              "      <td>0</td>\n",
              "      <td>0</td>\n",
              "      <td>0</td>\n",
              "      <td>0</td>\n",
              "      <td>0.0</td>\n",
              "      <td>0.0</td>\n",
              "      <td>0.0</td>\n",
              "      <td>0.0</td>\n",
              "      <td>0</td>\n",
              "      <td>0</td>\n",
              "      <td>0</td>\n",
              "      <td>0</td>\n",
              "      <td>0</td>\n",
              "      <td>0.0</td>\n",
              "      <td>0.0</td>\n",
              "      <td>0.0</td>\n",
              "      <td>0.0</td>\n",
              "      <td>0</td>\n",
              "      <td>0</td>\n",
              "      <td>0</td>\n",
              "      <td>0</td>\n",
              "      <td>0</td>\n",
              "      <td>0.0</td>\n",
              "      <td>0.0</td>\n",
              "      <td>0.0</td>\n",
              "      <td>0.0</td>\n",
              "      <td>0</td>\n",
              "      <td>0</td>\n",
              "      <td>0</td>\n",
              "      <td>0</td>\n",
              "      <td>0</td>\n",
              "      <td>0</td>\n",
              "      <td>0</td>\n",
              "      <td>0</td>\n",
              "      <td>0</td>\n",
              "      <td>0</td>\n",
              "      <td>0</td>\n",
              "      <td>0</td>\n",
              "      <td>0</td>\n",
              "      <td>0</td>\n",
              "    </tr>\n",
              "    <tr>\n",
              "      <th>1</th>\n",
              "      <td>1.262506e+09</td>\n",
              "      <td>1.263110e+09</td>\n",
              "      <td>1</td>\n",
              "      <td>1</td>\n",
              "      <td>32</td>\n",
              "      <td>0</td>\n",
              "      <td>4</td>\n",
              "      <td>10</td>\n",
              "      <td>19</td>\n",
              "      <td>0</td>\n",
              "      <td>26</td>\n",
              "      <td>22</td>\n",
              "      <td>17</td>\n",
              "      <td>39</td>\n",
              "      <td>32</td>\n",
              "      <td>895</td>\n",
              "      <td>895</td>\n",
              "      <td>0</td>\n",
              "      <td>0</td>\n",
              "      <td>0</td>\n",
              "      <td>893</td>\n",
              "      <td>893</td>\n",
              "      <td>0</td>\n",
              "      <td>0</td>\n",
              "      <td>0</td>\n",
              "      <td>2</td>\n",
              "      <td>2</td>\n",
              "      <td>0</td>\n",
              "      <td>0</td>\n",
              "      <td>0</td>\n",
              "      <td>0</td>\n",
              "      <td>0</td>\n",
              "      <td>0</td>\n",
              "      <td>0</td>\n",
              "      <td>0</td>\n",
              "      <td>6</td>\n",
              "      <td>6</td>\n",
              "      <td>0</td>\n",
              "      <td>0</td>\n",
              "      <td>0</td>\n",
              "      <td>...</td>\n",
              "      <td>0</td>\n",
              "      <td>0</td>\n",
              "      <td>0</td>\n",
              "      <td>0</td>\n",
              "      <td>0.0</td>\n",
              "      <td>0.0</td>\n",
              "      <td>0.0</td>\n",
              "      <td>0.0</td>\n",
              "      <td>0</td>\n",
              "      <td>0</td>\n",
              "      <td>0</td>\n",
              "      <td>0</td>\n",
              "      <td>0</td>\n",
              "      <td>0.0</td>\n",
              "      <td>0.0</td>\n",
              "      <td>0.0</td>\n",
              "      <td>0.0</td>\n",
              "      <td>0</td>\n",
              "      <td>0</td>\n",
              "      <td>0</td>\n",
              "      <td>0</td>\n",
              "      <td>0</td>\n",
              "      <td>0.0</td>\n",
              "      <td>0.0</td>\n",
              "      <td>0.0</td>\n",
              "      <td>0.0</td>\n",
              "      <td>0</td>\n",
              "      <td>0</td>\n",
              "      <td>0</td>\n",
              "      <td>0</td>\n",
              "      <td>0</td>\n",
              "      <td>0</td>\n",
              "      <td>0</td>\n",
              "      <td>0</td>\n",
              "      <td>0</td>\n",
              "      <td>0</td>\n",
              "      <td>0</td>\n",
              "      <td>0</td>\n",
              "      <td>0</td>\n",
              "      <td>0</td>\n",
              "    </tr>\n",
              "    <tr>\n",
              "      <th>2</th>\n",
              "      <td>1.262506e+09</td>\n",
              "      <td>1.263110e+09</td>\n",
              "      <td>2</td>\n",
              "      <td>1</td>\n",
              "      <td>35</td>\n",
              "      <td>0</td>\n",
              "      <td>1</td>\n",
              "      <td>11</td>\n",
              "      <td>20</td>\n",
              "      <td>0</td>\n",
              "      <td>22</td>\n",
              "      <td>16</td>\n",
              "      <td>23</td>\n",
              "      <td>40</td>\n",
              "      <td>33</td>\n",
              "      <td>603</td>\n",
              "      <td>603</td>\n",
              "      <td>0</td>\n",
              "      <td>0</td>\n",
              "      <td>0</td>\n",
              "      <td>559</td>\n",
              "      <td>559</td>\n",
              "      <td>0</td>\n",
              "      <td>0</td>\n",
              "      <td>0</td>\n",
              "      <td>44</td>\n",
              "      <td>44</td>\n",
              "      <td>0</td>\n",
              "      <td>0</td>\n",
              "      <td>0</td>\n",
              "      <td>0</td>\n",
              "      <td>0</td>\n",
              "      <td>0</td>\n",
              "      <td>0</td>\n",
              "      <td>0</td>\n",
              "      <td>9</td>\n",
              "      <td>9</td>\n",
              "      <td>0</td>\n",
              "      <td>0</td>\n",
              "      <td>0</td>\n",
              "      <td>...</td>\n",
              "      <td>0</td>\n",
              "      <td>0</td>\n",
              "      <td>0</td>\n",
              "      <td>0</td>\n",
              "      <td>0.0</td>\n",
              "      <td>0.0</td>\n",
              "      <td>0.0</td>\n",
              "      <td>0.0</td>\n",
              "      <td>0</td>\n",
              "      <td>0</td>\n",
              "      <td>0</td>\n",
              "      <td>0</td>\n",
              "      <td>0</td>\n",
              "      <td>0.0</td>\n",
              "      <td>0.0</td>\n",
              "      <td>0.0</td>\n",
              "      <td>0.0</td>\n",
              "      <td>0</td>\n",
              "      <td>0</td>\n",
              "      <td>0</td>\n",
              "      <td>0</td>\n",
              "      <td>0</td>\n",
              "      <td>0.0</td>\n",
              "      <td>0.0</td>\n",
              "      <td>0.0</td>\n",
              "      <td>0.0</td>\n",
              "      <td>0</td>\n",
              "      <td>0</td>\n",
              "      <td>0</td>\n",
              "      <td>0</td>\n",
              "      <td>0</td>\n",
              "      <td>0</td>\n",
              "      <td>0</td>\n",
              "      <td>0</td>\n",
              "      <td>0</td>\n",
              "      <td>0</td>\n",
              "      <td>0</td>\n",
              "      <td>0</td>\n",
              "      <td>0</td>\n",
              "      <td>0</td>\n",
              "    </tr>\n",
              "    <tr>\n",
              "      <th>3</th>\n",
              "      <td>1.262506e+09</td>\n",
              "      <td>1.263110e+09</td>\n",
              "      <td>3</td>\n",
              "      <td>1</td>\n",
              "      <td>30</td>\n",
              "      <td>0</td>\n",
              "      <td>2</td>\n",
              "      <td>12</td>\n",
              "      <td>14</td>\n",
              "      <td>0</td>\n",
              "      <td>40</td>\n",
              "      <td>48</td>\n",
              "      <td>36</td>\n",
              "      <td>14</td>\n",
              "      <td>37</td>\n",
              "      <td>65</td>\n",
              "      <td>65</td>\n",
              "      <td>0</td>\n",
              "      <td>0</td>\n",
              "      <td>0</td>\n",
              "      <td>53</td>\n",
              "      <td>53</td>\n",
              "      <td>0</td>\n",
              "      <td>0</td>\n",
              "      <td>0</td>\n",
              "      <td>12</td>\n",
              "      <td>12</td>\n",
              "      <td>0</td>\n",
              "      <td>0</td>\n",
              "      <td>0</td>\n",
              "      <td>0</td>\n",
              "      <td>0</td>\n",
              "      <td>0</td>\n",
              "      <td>0</td>\n",
              "      <td>0</td>\n",
              "      <td>5</td>\n",
              "      <td>5</td>\n",
              "      <td>0</td>\n",
              "      <td>0</td>\n",
              "      <td>0</td>\n",
              "      <td>...</td>\n",
              "      <td>0</td>\n",
              "      <td>0</td>\n",
              "      <td>0</td>\n",
              "      <td>0</td>\n",
              "      <td>0.0</td>\n",
              "      <td>0.0</td>\n",
              "      <td>0.0</td>\n",
              "      <td>0.0</td>\n",
              "      <td>0</td>\n",
              "      <td>0</td>\n",
              "      <td>0</td>\n",
              "      <td>0</td>\n",
              "      <td>0</td>\n",
              "      <td>0.0</td>\n",
              "      <td>0.0</td>\n",
              "      <td>0.0</td>\n",
              "      <td>0.0</td>\n",
              "      <td>0</td>\n",
              "      <td>0</td>\n",
              "      <td>0</td>\n",
              "      <td>0</td>\n",
              "      <td>0</td>\n",
              "      <td>0.0</td>\n",
              "      <td>0.0</td>\n",
              "      <td>0.0</td>\n",
              "      <td>0.0</td>\n",
              "      <td>0</td>\n",
              "      <td>0</td>\n",
              "      <td>0</td>\n",
              "      <td>0</td>\n",
              "      <td>0</td>\n",
              "      <td>0</td>\n",
              "      <td>0</td>\n",
              "      <td>0</td>\n",
              "      <td>0</td>\n",
              "      <td>0</td>\n",
              "      <td>0</td>\n",
              "      <td>0</td>\n",
              "      <td>0</td>\n",
              "      <td>0</td>\n",
              "    </tr>\n",
              "    <tr>\n",
              "      <th>4</th>\n",
              "      <td>1.262506e+09</td>\n",
              "      <td>1.263110e+09</td>\n",
              "      <td>4</td>\n",
              "      <td>1</td>\n",
              "      <td>30</td>\n",
              "      <td>0</td>\n",
              "      <td>2</td>\n",
              "      <td>12</td>\n",
              "      <td>33</td>\n",
              "      <td>0</td>\n",
              "      <td>36</td>\n",
              "      <td>44</td>\n",
              "      <td>23</td>\n",
              "      <td>44</td>\n",
              "      <td>25</td>\n",
              "      <td>64</td>\n",
              "      <td>64</td>\n",
              "      <td>0</td>\n",
              "      <td>0</td>\n",
              "      <td>0</td>\n",
              "      <td>57</td>\n",
              "      <td>57</td>\n",
              "      <td>0</td>\n",
              "      <td>0</td>\n",
              "      <td>0</td>\n",
              "      <td>7</td>\n",
              "      <td>7</td>\n",
              "      <td>0</td>\n",
              "      <td>0</td>\n",
              "      <td>0</td>\n",
              "      <td>0</td>\n",
              "      <td>0</td>\n",
              "      <td>0</td>\n",
              "      <td>0</td>\n",
              "      <td>0</td>\n",
              "      <td>5</td>\n",
              "      <td>5</td>\n",
              "      <td>0</td>\n",
              "      <td>0</td>\n",
              "      <td>0</td>\n",
              "      <td>...</td>\n",
              "      <td>0</td>\n",
              "      <td>0</td>\n",
              "      <td>0</td>\n",
              "      <td>0</td>\n",
              "      <td>0.0</td>\n",
              "      <td>0.0</td>\n",
              "      <td>0.0</td>\n",
              "      <td>0.0</td>\n",
              "      <td>0</td>\n",
              "      <td>0</td>\n",
              "      <td>0</td>\n",
              "      <td>0</td>\n",
              "      <td>0</td>\n",
              "      <td>0.0</td>\n",
              "      <td>0.0</td>\n",
              "      <td>0.0</td>\n",
              "      <td>0.0</td>\n",
              "      <td>0</td>\n",
              "      <td>0</td>\n",
              "      <td>0</td>\n",
              "      <td>0</td>\n",
              "      <td>0</td>\n",
              "      <td>0.0</td>\n",
              "      <td>0.0</td>\n",
              "      <td>0.0</td>\n",
              "      <td>0.0</td>\n",
              "      <td>0</td>\n",
              "      <td>0</td>\n",
              "      <td>0</td>\n",
              "      <td>0</td>\n",
              "      <td>0</td>\n",
              "      <td>0</td>\n",
              "      <td>0</td>\n",
              "      <td>0</td>\n",
              "      <td>0</td>\n",
              "      <td>0</td>\n",
              "      <td>0</td>\n",
              "      <td>0</td>\n",
              "      <td>0</td>\n",
              "      <td>0</td>\n",
              "    </tr>\n",
              "  </tbody>\n",
              "</table>\n",
              "<p>5 rows × 668 columns</p>\n",
              "</div>\n",
              "      <button class=\"colab-df-convert\" onclick=\"convertToInteractive('df-21b47caf-146c-458b-838a-7203be5ff595')\"\n",
              "              title=\"Convert this dataframe to an interactive table.\"\n",
              "              style=\"display:none;\">\n",
              "        \n",
              "  <svg xmlns=\"http://www.w3.org/2000/svg\" height=\"24px\"viewBox=\"0 0 24 24\"\n",
              "       width=\"24px\">\n",
              "    <path d=\"M0 0h24v24H0V0z\" fill=\"none\"/>\n",
              "    <path d=\"M18.56 5.44l.94 2.06.94-2.06 2.06-.94-2.06-.94-.94-2.06-.94 2.06-2.06.94zm-11 1L8.5 8.5l.94-2.06 2.06-.94-2.06-.94L8.5 2.5l-.94 2.06-2.06.94zm10 10l.94 2.06.94-2.06 2.06-.94-2.06-.94-.94-2.06-.94 2.06-2.06.94z\"/><path d=\"M17.41 7.96l-1.37-1.37c-.4-.4-.92-.59-1.43-.59-.52 0-1.04.2-1.43.59L10.3 9.45l-7.72 7.72c-.78.78-.78 2.05 0 2.83L4 21.41c.39.39.9.59 1.41.59.51 0 1.02-.2 1.41-.59l7.78-7.78 2.81-2.81c.8-.78.8-2.07 0-2.86zM5.41 20L4 18.59l7.72-7.72 1.47 1.35L5.41 20z\"/>\n",
              "  </svg>\n",
              "      </button>\n",
              "      \n",
              "  <style>\n",
              "    .colab-df-container {\n",
              "      display:flex;\n",
              "      flex-wrap:wrap;\n",
              "      gap: 12px;\n",
              "    }\n",
              "\n",
              "    .colab-df-convert {\n",
              "      background-color: #E8F0FE;\n",
              "      border: none;\n",
              "      border-radius: 50%;\n",
              "      cursor: pointer;\n",
              "      display: none;\n",
              "      fill: #1967D2;\n",
              "      height: 32px;\n",
              "      padding: 0 0 0 0;\n",
              "      width: 32px;\n",
              "    }\n",
              "\n",
              "    .colab-df-convert:hover {\n",
              "      background-color: #E2EBFA;\n",
              "      box-shadow: 0px 1px 2px rgba(60, 64, 67, 0.3), 0px 1px 3px 1px rgba(60, 64, 67, 0.15);\n",
              "      fill: #174EA6;\n",
              "    }\n",
              "\n",
              "    [theme=dark] .colab-df-convert {\n",
              "      background-color: #3B4455;\n",
              "      fill: #D2E3FC;\n",
              "    }\n",
              "\n",
              "    [theme=dark] .colab-df-convert:hover {\n",
              "      background-color: #434B5C;\n",
              "      box-shadow: 0px 1px 3px 1px rgba(0, 0, 0, 0.15);\n",
              "      filter: drop-shadow(0px 1px 2px rgba(0, 0, 0, 0.3));\n",
              "      fill: #FFFFFF;\n",
              "    }\n",
              "  </style>\n",
              "\n",
              "      <script>\n",
              "        const buttonEl =\n",
              "          document.querySelector('#df-21b47caf-146c-458b-838a-7203be5ff595 button.colab-df-convert');\n",
              "        buttonEl.style.display =\n",
              "          google.colab.kernel.accessAllowed ? 'block' : 'none';\n",
              "\n",
              "        async function convertToInteractive(key) {\n",
              "          const element = document.querySelector('#df-21b47caf-146c-458b-838a-7203be5ff595');\n",
              "          const dataTable =\n",
              "            await google.colab.kernel.invokeFunction('convertToInteractive',\n",
              "                                                     [key], {});\n",
              "          if (!dataTable) return;\n",
              "\n",
              "          const docLinkHtml = 'Like what you see? Visit the ' +\n",
              "            '<a target=\"_blank\" href=https://colab.research.google.com/notebooks/data_table.ipynb>data table notebook</a>'\n",
              "            + ' to learn more about interactive tables.';\n",
              "          element.innerHTML = '';\n",
              "          dataTable['output_type'] = 'display_data';\n",
              "          await google.colab.output.renderOutput(dataTable, element);\n",
              "          const docLink = document.createElement('div');\n",
              "          docLink.innerHTML = docLinkHtml;\n",
              "          element.appendChild(docLink);\n",
              "        }\n",
              "      </script>\n",
              "    </div>\n",
              "  </div>\n",
              "  "
            ],
            "text/plain": [
              "      starttime       endtime  ...  weekendhttp_hackf_n-pc3  insider\n",
              "0  1.262506e+09  1.263110e+09  ...                        0        0\n",
              "1  1.262506e+09  1.263110e+09  ...                        0        0\n",
              "2  1.262506e+09  1.263110e+09  ...                        0        0\n",
              "3  1.262506e+09  1.263110e+09  ...                        0        0\n",
              "4  1.262506e+09  1.263110e+09  ...                        0        0\n",
              "\n",
              "[5 rows x 668 columns]"
            ]
          },
          "metadata": {},
          "execution_count": 149
        }
      ]
    },
    {
      "cell_type": "code",
      "source": [
        "week_df.loc[:,'starttime'] = pd.to_datetime(week_df['starttime'])\n",
        "week_df.loc[:,'endtime'] = pd.to_datetime(week_df['endtime'])\n",
        "week_df.head()"
      ],
      "metadata": {
        "colab": {
          "base_uri": "https://localhost:8080/",
          "height": 403
        },
        "id": "bsSqQsJlnrKH",
        "outputId": "3669cac2-cd3d-452e-93a2-df4771c6fa91"
      },
      "execution_count": null,
      "outputs": [
        {
          "output_type": "execute_result",
          "data": {
            "text/html": [
              "\n",
              "  <div id=\"df-fe8253d3-b0a3-4e8f-84ab-95e28eca30e4\">\n",
              "    <div class=\"colab-df-container\">\n",
              "      <div>\n",
              "<style scoped>\n",
              "    .dataframe tbody tr th:only-of-type {\n",
              "        vertical-align: middle;\n",
              "    }\n",
              "\n",
              "    .dataframe tbody tr th {\n",
              "        vertical-align: top;\n",
              "    }\n",
              "\n",
              "    .dataframe thead th {\n",
              "        text-align: right;\n",
              "    }\n",
              "</style>\n",
              "<table border=\"1\" class=\"dataframe\">\n",
              "  <thead>\n",
              "    <tr style=\"text-align: right;\">\n",
              "      <th></th>\n",
              "      <th>starttime</th>\n",
              "      <th>endtime</th>\n",
              "      <th>user</th>\n",
              "      <th>week</th>\n",
              "      <th>role</th>\n",
              "      <th>b_unit</th>\n",
              "      <th>f_unit</th>\n",
              "      <th>dept</th>\n",
              "      <th>team</th>\n",
              "      <th>ITAdmin</th>\n",
              "      <th>O</th>\n",
              "      <th>C</th>\n",
              "      <th>E</th>\n",
              "      <th>A</th>\n",
              "      <th>N</th>\n",
              "      <th>n_allact</th>\n",
              "      <th>allact_n-pc0</th>\n",
              "      <th>allact_n-pc1</th>\n",
              "      <th>allact_n-pc2</th>\n",
              "      <th>allact_n-pc3</th>\n",
              "      <th>n_workhourallact</th>\n",
              "      <th>workhourallact_n-pc0</th>\n",
              "      <th>workhourallact_n-pc1</th>\n",
              "      <th>workhourallact_n-pc2</th>\n",
              "      <th>workhourallact_n-pc3</th>\n",
              "      <th>n_afterhourallact</th>\n",
              "      <th>afterhourallact_n-pc0</th>\n",
              "      <th>afterhourallact_n-pc1</th>\n",
              "      <th>afterhourallact_n-pc2</th>\n",
              "      <th>afterhourallact_n-pc3</th>\n",
              "      <th>n_weekendallact</th>\n",
              "      <th>weekendallact_n-pc0</th>\n",
              "      <th>weekendallact_n-pc1</th>\n",
              "      <th>weekendallact_n-pc2</th>\n",
              "      <th>weekendallact_n-pc3</th>\n",
              "      <th>n_logon</th>\n",
              "      <th>logon_n-pc0</th>\n",
              "      <th>logon_n-pc1</th>\n",
              "      <th>logon_n-pc2</th>\n",
              "      <th>logon_n-pc3</th>\n",
              "      <th>...</th>\n",
              "      <th>weekendhttp_socnetf_n-pc1</th>\n",
              "      <th>weekendhttp_socnetf_n-pc2</th>\n",
              "      <th>weekendhttp_socnetf_n-pc3</th>\n",
              "      <th>weekendhttp_n_cloudf</th>\n",
              "      <th>weekendhttp_cloudf_mean_url_len</th>\n",
              "      <th>weekendhttp_cloudf_mean_url_depth</th>\n",
              "      <th>weekendhttp_cloudf_mean_http_c_len</th>\n",
              "      <th>weekendhttp_cloudf_mean_http_c_nwords</th>\n",
              "      <th>weekendhttp_cloudf_n-pc0</th>\n",
              "      <th>weekendhttp_cloudf_n-pc1</th>\n",
              "      <th>weekendhttp_cloudf_n-pc2</th>\n",
              "      <th>weekendhttp_cloudf_n-pc3</th>\n",
              "      <th>weekendhttp_n_jobf</th>\n",
              "      <th>weekendhttp_jobf_mean_url_len</th>\n",
              "      <th>weekendhttp_jobf_mean_url_depth</th>\n",
              "      <th>weekendhttp_jobf_mean_http_c_len</th>\n",
              "      <th>weekendhttp_jobf_mean_http_c_nwords</th>\n",
              "      <th>weekendhttp_jobf_n-pc0</th>\n",
              "      <th>weekendhttp_jobf_n-pc1</th>\n",
              "      <th>weekendhttp_jobf_n-pc2</th>\n",
              "      <th>weekendhttp_jobf_n-pc3</th>\n",
              "      <th>weekendhttp_n_leakf</th>\n",
              "      <th>weekendhttp_leakf_mean_url_len</th>\n",
              "      <th>weekendhttp_leakf_mean_url_depth</th>\n",
              "      <th>weekendhttp_leakf_mean_http_c_len</th>\n",
              "      <th>weekendhttp_leakf_mean_http_c_nwords</th>\n",
              "      <th>weekendhttp_leakf_n-pc0</th>\n",
              "      <th>weekendhttp_leakf_n-pc1</th>\n",
              "      <th>weekendhttp_leakf_n-pc2</th>\n",
              "      <th>weekendhttp_leakf_n-pc3</th>\n",
              "      <th>weekendhttp_n_hackf</th>\n",
              "      <th>weekendhttp_hackf_mean_url_len</th>\n",
              "      <th>weekendhttp_hackf_mean_url_depth</th>\n",
              "      <th>weekendhttp_hackf_mean_http_c_len</th>\n",
              "      <th>weekendhttp_hackf_mean_http_c_nwords</th>\n",
              "      <th>weekendhttp_hackf_n-pc0</th>\n",
              "      <th>weekendhttp_hackf_n-pc1</th>\n",
              "      <th>weekendhttp_hackf_n-pc2</th>\n",
              "      <th>weekendhttp_hackf_n-pc3</th>\n",
              "      <th>insider</th>\n",
              "    </tr>\n",
              "  </thead>\n",
              "  <tbody>\n",
              "    <tr>\n",
              "      <th>0</th>\n",
              "      <td>1970-01-01 00:00:01.262505600</td>\n",
              "      <td>1970-01-01 00:00:01.263110400</td>\n",
              "      <td>0</td>\n",
              "      <td>1</td>\n",
              "      <td>6</td>\n",
              "      <td>0</td>\n",
              "      <td>1</td>\n",
              "      <td>11</td>\n",
              "      <td>20</td>\n",
              "      <td>0</td>\n",
              "      <td>40</td>\n",
              "      <td>39</td>\n",
              "      <td>36</td>\n",
              "      <td>19</td>\n",
              "      <td>40</td>\n",
              "      <td>533</td>\n",
              "      <td>533</td>\n",
              "      <td>0</td>\n",
              "      <td>0</td>\n",
              "      <td>0</td>\n",
              "      <td>475</td>\n",
              "      <td>475</td>\n",
              "      <td>0</td>\n",
              "      <td>0</td>\n",
              "      <td>0</td>\n",
              "      <td>58</td>\n",
              "      <td>58</td>\n",
              "      <td>0</td>\n",
              "      <td>0</td>\n",
              "      <td>0</td>\n",
              "      <td>0</td>\n",
              "      <td>0</td>\n",
              "      <td>0</td>\n",
              "      <td>0</td>\n",
              "      <td>0</td>\n",
              "      <td>9</td>\n",
              "      <td>9</td>\n",
              "      <td>0</td>\n",
              "      <td>0</td>\n",
              "      <td>0</td>\n",
              "      <td>...</td>\n",
              "      <td>0</td>\n",
              "      <td>0</td>\n",
              "      <td>0</td>\n",
              "      <td>0</td>\n",
              "      <td>0.0</td>\n",
              "      <td>0.0</td>\n",
              "      <td>0.0</td>\n",
              "      <td>0.0</td>\n",
              "      <td>0</td>\n",
              "      <td>0</td>\n",
              "      <td>0</td>\n",
              "      <td>0</td>\n",
              "      <td>0</td>\n",
              "      <td>0.0</td>\n",
              "      <td>0.0</td>\n",
              "      <td>0.0</td>\n",
              "      <td>0.0</td>\n",
              "      <td>0</td>\n",
              "      <td>0</td>\n",
              "      <td>0</td>\n",
              "      <td>0</td>\n",
              "      <td>0</td>\n",
              "      <td>0.0</td>\n",
              "      <td>0.0</td>\n",
              "      <td>0.0</td>\n",
              "      <td>0.0</td>\n",
              "      <td>0</td>\n",
              "      <td>0</td>\n",
              "      <td>0</td>\n",
              "      <td>0</td>\n",
              "      <td>0</td>\n",
              "      <td>0</td>\n",
              "      <td>0</td>\n",
              "      <td>0</td>\n",
              "      <td>0</td>\n",
              "      <td>0</td>\n",
              "      <td>0</td>\n",
              "      <td>0</td>\n",
              "      <td>0</td>\n",
              "      <td>0</td>\n",
              "    </tr>\n",
              "    <tr>\n",
              "      <th>1</th>\n",
              "      <td>1970-01-01 00:00:01.262505600</td>\n",
              "      <td>1970-01-01 00:00:01.263110400</td>\n",
              "      <td>1</td>\n",
              "      <td>1</td>\n",
              "      <td>32</td>\n",
              "      <td>0</td>\n",
              "      <td>4</td>\n",
              "      <td>10</td>\n",
              "      <td>19</td>\n",
              "      <td>0</td>\n",
              "      <td>26</td>\n",
              "      <td>22</td>\n",
              "      <td>17</td>\n",
              "      <td>39</td>\n",
              "      <td>32</td>\n",
              "      <td>895</td>\n",
              "      <td>895</td>\n",
              "      <td>0</td>\n",
              "      <td>0</td>\n",
              "      <td>0</td>\n",
              "      <td>893</td>\n",
              "      <td>893</td>\n",
              "      <td>0</td>\n",
              "      <td>0</td>\n",
              "      <td>0</td>\n",
              "      <td>2</td>\n",
              "      <td>2</td>\n",
              "      <td>0</td>\n",
              "      <td>0</td>\n",
              "      <td>0</td>\n",
              "      <td>0</td>\n",
              "      <td>0</td>\n",
              "      <td>0</td>\n",
              "      <td>0</td>\n",
              "      <td>0</td>\n",
              "      <td>6</td>\n",
              "      <td>6</td>\n",
              "      <td>0</td>\n",
              "      <td>0</td>\n",
              "      <td>0</td>\n",
              "      <td>...</td>\n",
              "      <td>0</td>\n",
              "      <td>0</td>\n",
              "      <td>0</td>\n",
              "      <td>0</td>\n",
              "      <td>0.0</td>\n",
              "      <td>0.0</td>\n",
              "      <td>0.0</td>\n",
              "      <td>0.0</td>\n",
              "      <td>0</td>\n",
              "      <td>0</td>\n",
              "      <td>0</td>\n",
              "      <td>0</td>\n",
              "      <td>0</td>\n",
              "      <td>0.0</td>\n",
              "      <td>0.0</td>\n",
              "      <td>0.0</td>\n",
              "      <td>0.0</td>\n",
              "      <td>0</td>\n",
              "      <td>0</td>\n",
              "      <td>0</td>\n",
              "      <td>0</td>\n",
              "      <td>0</td>\n",
              "      <td>0.0</td>\n",
              "      <td>0.0</td>\n",
              "      <td>0.0</td>\n",
              "      <td>0.0</td>\n",
              "      <td>0</td>\n",
              "      <td>0</td>\n",
              "      <td>0</td>\n",
              "      <td>0</td>\n",
              "      <td>0</td>\n",
              "      <td>0</td>\n",
              "      <td>0</td>\n",
              "      <td>0</td>\n",
              "      <td>0</td>\n",
              "      <td>0</td>\n",
              "      <td>0</td>\n",
              "      <td>0</td>\n",
              "      <td>0</td>\n",
              "      <td>0</td>\n",
              "    </tr>\n",
              "    <tr>\n",
              "      <th>2</th>\n",
              "      <td>1970-01-01 00:00:01.262505600</td>\n",
              "      <td>1970-01-01 00:00:01.263110400</td>\n",
              "      <td>2</td>\n",
              "      <td>1</td>\n",
              "      <td>35</td>\n",
              "      <td>0</td>\n",
              "      <td>1</td>\n",
              "      <td>11</td>\n",
              "      <td>20</td>\n",
              "      <td>0</td>\n",
              "      <td>22</td>\n",
              "      <td>16</td>\n",
              "      <td>23</td>\n",
              "      <td>40</td>\n",
              "      <td>33</td>\n",
              "      <td>603</td>\n",
              "      <td>603</td>\n",
              "      <td>0</td>\n",
              "      <td>0</td>\n",
              "      <td>0</td>\n",
              "      <td>559</td>\n",
              "      <td>559</td>\n",
              "      <td>0</td>\n",
              "      <td>0</td>\n",
              "      <td>0</td>\n",
              "      <td>44</td>\n",
              "      <td>44</td>\n",
              "      <td>0</td>\n",
              "      <td>0</td>\n",
              "      <td>0</td>\n",
              "      <td>0</td>\n",
              "      <td>0</td>\n",
              "      <td>0</td>\n",
              "      <td>0</td>\n",
              "      <td>0</td>\n",
              "      <td>9</td>\n",
              "      <td>9</td>\n",
              "      <td>0</td>\n",
              "      <td>0</td>\n",
              "      <td>0</td>\n",
              "      <td>...</td>\n",
              "      <td>0</td>\n",
              "      <td>0</td>\n",
              "      <td>0</td>\n",
              "      <td>0</td>\n",
              "      <td>0.0</td>\n",
              "      <td>0.0</td>\n",
              "      <td>0.0</td>\n",
              "      <td>0.0</td>\n",
              "      <td>0</td>\n",
              "      <td>0</td>\n",
              "      <td>0</td>\n",
              "      <td>0</td>\n",
              "      <td>0</td>\n",
              "      <td>0.0</td>\n",
              "      <td>0.0</td>\n",
              "      <td>0.0</td>\n",
              "      <td>0.0</td>\n",
              "      <td>0</td>\n",
              "      <td>0</td>\n",
              "      <td>0</td>\n",
              "      <td>0</td>\n",
              "      <td>0</td>\n",
              "      <td>0.0</td>\n",
              "      <td>0.0</td>\n",
              "      <td>0.0</td>\n",
              "      <td>0.0</td>\n",
              "      <td>0</td>\n",
              "      <td>0</td>\n",
              "      <td>0</td>\n",
              "      <td>0</td>\n",
              "      <td>0</td>\n",
              "      <td>0</td>\n",
              "      <td>0</td>\n",
              "      <td>0</td>\n",
              "      <td>0</td>\n",
              "      <td>0</td>\n",
              "      <td>0</td>\n",
              "      <td>0</td>\n",
              "      <td>0</td>\n",
              "      <td>0</td>\n",
              "    </tr>\n",
              "    <tr>\n",
              "      <th>3</th>\n",
              "      <td>1970-01-01 00:00:01.262505600</td>\n",
              "      <td>1970-01-01 00:00:01.263110400</td>\n",
              "      <td>3</td>\n",
              "      <td>1</td>\n",
              "      <td>30</td>\n",
              "      <td>0</td>\n",
              "      <td>2</td>\n",
              "      <td>12</td>\n",
              "      <td>14</td>\n",
              "      <td>0</td>\n",
              "      <td>40</td>\n",
              "      <td>48</td>\n",
              "      <td>36</td>\n",
              "      <td>14</td>\n",
              "      <td>37</td>\n",
              "      <td>65</td>\n",
              "      <td>65</td>\n",
              "      <td>0</td>\n",
              "      <td>0</td>\n",
              "      <td>0</td>\n",
              "      <td>53</td>\n",
              "      <td>53</td>\n",
              "      <td>0</td>\n",
              "      <td>0</td>\n",
              "      <td>0</td>\n",
              "      <td>12</td>\n",
              "      <td>12</td>\n",
              "      <td>0</td>\n",
              "      <td>0</td>\n",
              "      <td>0</td>\n",
              "      <td>0</td>\n",
              "      <td>0</td>\n",
              "      <td>0</td>\n",
              "      <td>0</td>\n",
              "      <td>0</td>\n",
              "      <td>5</td>\n",
              "      <td>5</td>\n",
              "      <td>0</td>\n",
              "      <td>0</td>\n",
              "      <td>0</td>\n",
              "      <td>...</td>\n",
              "      <td>0</td>\n",
              "      <td>0</td>\n",
              "      <td>0</td>\n",
              "      <td>0</td>\n",
              "      <td>0.0</td>\n",
              "      <td>0.0</td>\n",
              "      <td>0.0</td>\n",
              "      <td>0.0</td>\n",
              "      <td>0</td>\n",
              "      <td>0</td>\n",
              "      <td>0</td>\n",
              "      <td>0</td>\n",
              "      <td>0</td>\n",
              "      <td>0.0</td>\n",
              "      <td>0.0</td>\n",
              "      <td>0.0</td>\n",
              "      <td>0.0</td>\n",
              "      <td>0</td>\n",
              "      <td>0</td>\n",
              "      <td>0</td>\n",
              "      <td>0</td>\n",
              "      <td>0</td>\n",
              "      <td>0.0</td>\n",
              "      <td>0.0</td>\n",
              "      <td>0.0</td>\n",
              "      <td>0.0</td>\n",
              "      <td>0</td>\n",
              "      <td>0</td>\n",
              "      <td>0</td>\n",
              "      <td>0</td>\n",
              "      <td>0</td>\n",
              "      <td>0</td>\n",
              "      <td>0</td>\n",
              "      <td>0</td>\n",
              "      <td>0</td>\n",
              "      <td>0</td>\n",
              "      <td>0</td>\n",
              "      <td>0</td>\n",
              "      <td>0</td>\n",
              "      <td>0</td>\n",
              "    </tr>\n",
              "    <tr>\n",
              "      <th>4</th>\n",
              "      <td>1970-01-01 00:00:01.262505600</td>\n",
              "      <td>1970-01-01 00:00:01.263110400</td>\n",
              "      <td>4</td>\n",
              "      <td>1</td>\n",
              "      <td>30</td>\n",
              "      <td>0</td>\n",
              "      <td>2</td>\n",
              "      <td>12</td>\n",
              "      <td>33</td>\n",
              "      <td>0</td>\n",
              "      <td>36</td>\n",
              "      <td>44</td>\n",
              "      <td>23</td>\n",
              "      <td>44</td>\n",
              "      <td>25</td>\n",
              "      <td>64</td>\n",
              "      <td>64</td>\n",
              "      <td>0</td>\n",
              "      <td>0</td>\n",
              "      <td>0</td>\n",
              "      <td>57</td>\n",
              "      <td>57</td>\n",
              "      <td>0</td>\n",
              "      <td>0</td>\n",
              "      <td>0</td>\n",
              "      <td>7</td>\n",
              "      <td>7</td>\n",
              "      <td>0</td>\n",
              "      <td>0</td>\n",
              "      <td>0</td>\n",
              "      <td>0</td>\n",
              "      <td>0</td>\n",
              "      <td>0</td>\n",
              "      <td>0</td>\n",
              "      <td>0</td>\n",
              "      <td>5</td>\n",
              "      <td>5</td>\n",
              "      <td>0</td>\n",
              "      <td>0</td>\n",
              "      <td>0</td>\n",
              "      <td>...</td>\n",
              "      <td>0</td>\n",
              "      <td>0</td>\n",
              "      <td>0</td>\n",
              "      <td>0</td>\n",
              "      <td>0.0</td>\n",
              "      <td>0.0</td>\n",
              "      <td>0.0</td>\n",
              "      <td>0.0</td>\n",
              "      <td>0</td>\n",
              "      <td>0</td>\n",
              "      <td>0</td>\n",
              "      <td>0</td>\n",
              "      <td>0</td>\n",
              "      <td>0.0</td>\n",
              "      <td>0.0</td>\n",
              "      <td>0.0</td>\n",
              "      <td>0.0</td>\n",
              "      <td>0</td>\n",
              "      <td>0</td>\n",
              "      <td>0</td>\n",
              "      <td>0</td>\n",
              "      <td>0</td>\n",
              "      <td>0.0</td>\n",
              "      <td>0.0</td>\n",
              "      <td>0.0</td>\n",
              "      <td>0.0</td>\n",
              "      <td>0</td>\n",
              "      <td>0</td>\n",
              "      <td>0</td>\n",
              "      <td>0</td>\n",
              "      <td>0</td>\n",
              "      <td>0</td>\n",
              "      <td>0</td>\n",
              "      <td>0</td>\n",
              "      <td>0</td>\n",
              "      <td>0</td>\n",
              "      <td>0</td>\n",
              "      <td>0</td>\n",
              "      <td>0</td>\n",
              "      <td>0</td>\n",
              "    </tr>\n",
              "  </tbody>\n",
              "</table>\n",
              "<p>5 rows × 668 columns</p>\n",
              "</div>\n",
              "      <button class=\"colab-df-convert\" onclick=\"convertToInteractive('df-fe8253d3-b0a3-4e8f-84ab-95e28eca30e4')\"\n",
              "              title=\"Convert this dataframe to an interactive table.\"\n",
              "              style=\"display:none;\">\n",
              "        \n",
              "  <svg xmlns=\"http://www.w3.org/2000/svg\" height=\"24px\"viewBox=\"0 0 24 24\"\n",
              "       width=\"24px\">\n",
              "    <path d=\"M0 0h24v24H0V0z\" fill=\"none\"/>\n",
              "    <path d=\"M18.56 5.44l.94 2.06.94-2.06 2.06-.94-2.06-.94-.94-2.06-.94 2.06-2.06.94zm-11 1L8.5 8.5l.94-2.06 2.06-.94-2.06-.94L8.5 2.5l-.94 2.06-2.06.94zm10 10l.94 2.06.94-2.06 2.06-.94-2.06-.94-.94-2.06-.94 2.06-2.06.94z\"/><path d=\"M17.41 7.96l-1.37-1.37c-.4-.4-.92-.59-1.43-.59-.52 0-1.04.2-1.43.59L10.3 9.45l-7.72 7.72c-.78.78-.78 2.05 0 2.83L4 21.41c.39.39.9.59 1.41.59.51 0 1.02-.2 1.41-.59l7.78-7.78 2.81-2.81c.8-.78.8-2.07 0-2.86zM5.41 20L4 18.59l7.72-7.72 1.47 1.35L5.41 20z\"/>\n",
              "  </svg>\n",
              "      </button>\n",
              "      \n",
              "  <style>\n",
              "    .colab-df-container {\n",
              "      display:flex;\n",
              "      flex-wrap:wrap;\n",
              "      gap: 12px;\n",
              "    }\n",
              "\n",
              "    .colab-df-convert {\n",
              "      background-color: #E8F0FE;\n",
              "      border: none;\n",
              "      border-radius: 50%;\n",
              "      cursor: pointer;\n",
              "      display: none;\n",
              "      fill: #1967D2;\n",
              "      height: 32px;\n",
              "      padding: 0 0 0 0;\n",
              "      width: 32px;\n",
              "    }\n",
              "\n",
              "    .colab-df-convert:hover {\n",
              "      background-color: #E2EBFA;\n",
              "      box-shadow: 0px 1px 2px rgba(60, 64, 67, 0.3), 0px 1px 3px 1px rgba(60, 64, 67, 0.15);\n",
              "      fill: #174EA6;\n",
              "    }\n",
              "\n",
              "    [theme=dark] .colab-df-convert {\n",
              "      background-color: #3B4455;\n",
              "      fill: #D2E3FC;\n",
              "    }\n",
              "\n",
              "    [theme=dark] .colab-df-convert:hover {\n",
              "      background-color: #434B5C;\n",
              "      box-shadow: 0px 1px 3px 1px rgba(0, 0, 0, 0.15);\n",
              "      filter: drop-shadow(0px 1px 2px rgba(0, 0, 0, 0.3));\n",
              "      fill: #FFFFFF;\n",
              "    }\n",
              "  </style>\n",
              "\n",
              "      <script>\n",
              "        const buttonEl =\n",
              "          document.querySelector('#df-fe8253d3-b0a3-4e8f-84ab-95e28eca30e4 button.colab-df-convert');\n",
              "        buttonEl.style.display =\n",
              "          google.colab.kernel.accessAllowed ? 'block' : 'none';\n",
              "\n",
              "        async function convertToInteractive(key) {\n",
              "          const element = document.querySelector('#df-fe8253d3-b0a3-4e8f-84ab-95e28eca30e4');\n",
              "          const dataTable =\n",
              "            await google.colab.kernel.invokeFunction('convertToInteractive',\n",
              "                                                     [key], {});\n",
              "          if (!dataTable) return;\n",
              "\n",
              "          const docLinkHtml = 'Like what you see? Visit the ' +\n",
              "            '<a target=\"_blank\" href=https://colab.research.google.com/notebooks/data_table.ipynb>data table notebook</a>'\n",
              "            + ' to learn more about interactive tables.';\n",
              "          element.innerHTML = '';\n",
              "          dataTable['output_type'] = 'display_data';\n",
              "          await google.colab.output.renderOutput(dataTable, element);\n",
              "          const docLink = document.createElement('div');\n",
              "          docLink.innerHTML = docLinkHtml;\n",
              "          element.appendChild(docLink);\n",
              "        }\n",
              "      </script>\n",
              "    </div>\n",
              "  </div>\n",
              "  "
            ],
            "text/plain": [
              "                      starttime  ... insider\n",
              "0 1970-01-01 00:00:01.262505600  ...       0\n",
              "1 1970-01-01 00:00:01.262505600  ...       0\n",
              "2 1970-01-01 00:00:01.262505600  ...       0\n",
              "3 1970-01-01 00:00:01.262505600  ...       0\n",
              "4 1970-01-01 00:00:01.262505600  ...       0\n",
              "\n",
              "[5 rows x 668 columns]"
            ]
          },
          "metadata": {},
          "execution_count": 148
        }
      ]
    },
    {
      "cell_type": "markdown",
      "source": [
        "### By user"
      ],
      "metadata": {
        "id": "hHncp7DH9LeG"
      }
    },
    {
      "cell_type": "code",
      "source": [
        ""
      ],
      "metadata": {
        "id": "QHhqXCui9O8C"
      },
      "execution_count": null,
      "outputs": []
    },
    {
      "cell_type": "markdown",
      "source": [
        "## By Day"
      ],
      "metadata": {
        "id": "uvB6thConj5K"
      }
    },
    {
      "cell_type": "code",
      "source": [
        "day_df = pd.read_csv('./ExtractedData/dayr4.2.csv')"
      ],
      "metadata": {
        "id": "EV7P0q52lQ-N"
      },
      "execution_count": null,
      "outputs": []
    },
    {
      "cell_type": "markdown",
      "source": [
        "# Data Processing"
      ],
      "metadata": {
        "id": "oGZUoOsVjGMO"
      }
    },
    {
      "cell_type": "markdown",
      "source": [
        "## Get Temporal Information"
      ],
      "metadata": {
        "id": "Fl_5-HGyCWYn"
      }
    },
    {
      "cell_type": "code",
      "source": [
        "from scipy import stats \n",
        "\n",
        "def get_features(df, removed_cols):\n",
        "    x_cols = [i for i in df.columns if i not in removed_cols]\n",
        "    return x_cols\n",
        "\n",
        "def get_temporal_info(df, x_cols, level=\"week\", window=4, method='Percentile'):\n",
        "    output = pd.DataFrame(columns=[level, 'user','insider']+x_cols)\n",
        "\n",
        "    for t in trange(window+1, df[level].max()+1):\n",
        "      X = df[df[level].isin([w for w in range(t-window, t)])]\n",
        "      x_t = df[df[level]==t]\n",
        "      user_list = set(X.user.tolist()).intersection(set(x_t.user.tolist()))\n",
        "\n",
        "      for user in user_list:\n",
        "        X_u = X[X.user == user]\n",
        "        xt_u = x_t[x_t.user == user]\n",
        "        xt_output = [t, user, xt_u.insider.values[0]]\n",
        "\n",
        "        if method == 'Percentile':\n",
        "            for feature in x_cols:\n",
        "              pct = stats.percentileofscore(X_u[feature].values, xt_u[feature].values)\n",
        "              xt_output.append(pct)\n",
        "        else:\n",
        "            xt_u_list = xt_u.reset_index().loc[0, x_cols].tolist()\n",
        "            if method == 'Median Difference':\n",
        "                X_u_list = X_u.groupby(\"user\").median().reset_index().loc[0, x_cols].tolist()\n",
        "                diff = list(map(lambda x: x[0]-x[1], zip(xt_u_list, X_u_list))) \n",
        "            elif method == 'Mean Difference':\n",
        "                X_u_list = X_u.groupby(\"user\").mean().reset_index().loc[0, x_cols].tolist()\n",
        "                diff = list(map(lambda x: x[0]-x[1], zip(xt_u_list, X_u_list))) \n",
        "            xt_output = xt_output + diff\n",
        "\n",
        "        output = output.append(dict(zip(output.columns,xt_output)), ignore_index=True)\n",
        "    \n",
        "    return output"
      ],
      "metadata": {
        "id": "VR4IeBx-lRgK"
      },
      "execution_count": null,
      "outputs": []
    },
    {
      "cell_type": "markdown",
      "source": [
        "## Split Dataset"
      ],
      "metadata": {
        "id": "oWqHx6jICcky"
      }
    },
    {
      "cell_type": "code",
      "source": [
        "def split_dataset(data, x_cols):\n",
        "  \n",
        "    data1stHalf = data[data.week <= max(data.week)/2]\n",
        "    dataTest = data[data.week > max(data.week)/2]\n",
        "\n",
        "    selectedTrainUsers =  set(data1stHalf[data1stHalf.insider > 0]['user'])\n",
        "    nUsers = np.random.permutation(list(set(data1stHalf.user) - selectedTrainUsers))\n",
        "    trainUsers = np.concatenate((list(selectedTrainUsers), nUsers[:200-len(selectedTrainUsers)]))\n",
        "\n",
        "    unKnownTestUsers = list(set(dataTest.user) - selectedTrainUsers)\n",
        "    \n",
        "    xTrain = data1stHalf[data1stHalf.user.isin(trainUsers)][x_cols].values\n",
        "    yTrain = data1stHalf[data1stHalf.user.isin(trainUsers)]['insider'].values\n",
        "    yTrainBin = yTrain > 0\n",
        "    # Wenqi: Test dataset not the validation dataset\n",
        "    xTest = dataTest[dataTest.user.isin(unKnownTestUsers)][x_cols].values\n",
        "    yTest = dataTest[dataTest.user.isin(unKnownTestUsers)]['insider'].values\n",
        "    yTestBin = yTest > 0\n",
        "\n",
        "    X = np.concatenate((xTrain, xTest))\n",
        "    yBin = np.concatenate((yTrainBin, yTestBin))\n",
        "    \n",
        "    return X, yBin, xTrain, yTrainBin, xTest, yTestBin"
      ],
      "metadata": {
        "id": "FBF8t1zMCbHt"
      },
      "execution_count": null,
      "outputs": []
    },
    {
      "cell_type": "code",
      "source": [
        "# window = 4\n",
        "# method = 'Percentile' #['Percentile', 'Mean Difference', 'Median Difference']\n",
        "# removed_cols = ['user','day','week','starttime','endtime','sessionid','insider']\n",
        "\n",
        "# feature_names = get_features(week_df, removed_cols)\n",
        "# temp_info_df = get_temporal_info(week_df, feature_names, level=\"week\", window=window, method=method)\n",
        "# X, yBin, xTrain, yTrainBin, xTest, yTestBin = split_dataset(temp_info_df, feature_names)"
      ],
      "metadata": {
        "id": "KCkY-ini_Pz4"
      },
      "execution_count": null,
      "outputs": []
    },
    {
      "cell_type": "code",
      "source": [
        "# temp_info_df.to_csv('Percentile.csv', index = False)\n",
        "\n",
        "removed_cols = ['user','day','week','starttime','endtime','sessionid','insider']\n",
        "feature_names = get_features(week_df, removed_cols)\n",
        "# temp_info_df = pd.read_csv('Percentile.csv')\n",
        "X, yBin, xTrain, yTrainBin, xTest, yTestBin = split_dataset(week_df, feature_names)"
      ],
      "metadata": {
        "id": "P_0NT4zbIHjd"
      },
      "execution_count": null,
      "outputs": []
    },
    {
      "cell_type": "markdown",
      "source": [
        "# Score"
      ],
      "metadata": {
        "id": "7yKYyfWlkxfh"
      }
    },
    {
      "cell_type": "code",
      "source": [
        "from sklearn.metrics import roc_curve, auc, recall_score\n",
        "import matplotlib.pyplot as plt\n",
        "\n",
        "# Compute ROC curve and ROC area for each class\n",
        "def acu_curve(y, prob):\n",
        "    \n",
        "    fpr, tpr, threshold = roc_curve(y, prob)\n",
        "    roc_auc = auc(fpr, tpr)\n",
        "    plt.figure(figsize=(10, 10))\n",
        "    plt.plot(fpr, \n",
        "             tpr, \n",
        "             color = 'darkorange',\n",
        "             lw = 2, \n",
        "             label = 'ROC curve (area = %0.3f)' % roc_auc)\n",
        "    plt.plot([0, 1], [0, 1], color = 'navy', lw = 2, linestyle = '--')\n",
        "    plt.xlim([0.0, 1.00])\n",
        "    plt.ylim([0.0, 1.05])\n",
        "    plt.xlabel('False Positive Rate')\n",
        "    plt.ylabel('True Positive Rate')\n",
        "    plt.title('Receiver operating characteristic example')\n",
        "    plt.legend(loc = \"lower right\")\n",
        "    plt.show()"
      ],
      "metadata": {
        "id": "na7zTwbJlR8a"
      },
      "execution_count": null,
      "outputs": []
    },
    {
      "cell_type": "markdown",
      "source": [
        "# Model"
      ],
      "metadata": {
        "id": "_bGvukhEizjD"
      }
    },
    {
      "cell_type": "markdown",
      "source": [
        "## Random Forest"
      ],
      "metadata": {
        "id": "FuzE9Noxlw-J"
      }
    },
    {
      "cell_type": "code",
      "source": [
        "from sklearn.ensemble import RandomForestClassifier\n",
        "\n",
        "def RandomForestModel(verbose=1):\n",
        "\n",
        "    param_rf = {'n_estimators': [100, 200, 300, 500],\n",
        "                'max_depth': [4, 6, 8, 10]}\n",
        "\n",
        "    return RandomForestClassifier(), param_rf"
      ],
      "metadata": {
        "id": "NK9cK5j5qQNP"
      },
      "execution_count": null,
      "outputs": []
    },
    {
      "cell_type": "markdown",
      "source": [
        "## XGBoost"
      ],
      "metadata": {
        "id": "WQSohgB9l7Qv"
      }
    },
    {
      "cell_type": "code",
      "source": [
        "import xgboost as xgb\n",
        "\n",
        "def XGBoostModel():\n",
        "\n",
        "    param_xgb = {'max_depth': [4, 6, 8, 10],\n",
        "                 'n_estimators': [100, 200, 300, 400, 500],\n",
        "                 'colsample_bytree': [0.3, 0.5, 0.7, 0.9],\n",
        "                 'subsample': [0.3, 0.5, 0.7, 0.9]}\n",
        "\n",
        "    return xgb.XGBClassifier(booster='gbtree', scale_pos_weight=15, eval_metric='auc'), param_xgb"
      ],
      "metadata": {
        "id": "wM1pA9rmqQ01"
      },
      "execution_count": null,
      "outputs": []
    },
    {
      "cell_type": "markdown",
      "source": [
        "## LSTM"
      ],
      "metadata": {
        "id": "vSp8PpU9l609"
      }
    },
    {
      "cell_type": "markdown",
      "source": [
        "### Step 1 Data Processing"
      ],
      "metadata": {
        "id": "yCn_p5Cep6eX"
      }
    },
    {
      "cell_type": "code",
      "source": [
        "import torch\n",
        "from torch.utils.data import TensorDataset, Dataset, DataLoader\n",
        "from torch.nn.utils.rnn import pad_sequence,pack_padded_sequence,pack_sequence,pad_packed_sequence\n",
        "from collections import defaultdict\n",
        "import torch\n",
        "from torch.nn.utils.rnn import pad_sequence, pack_padded_sequence\n",
        "\n",
        "df_dic = defaultdict(pd.DataFrame)\n",
        "for user in week_df.user.unique():\n",
        "  df_dic[user] = week_df[week_df.user == user]\n",
        "\n",
        "\n",
        "sequence = []\n",
        "\n",
        "\n",
        "for user, df in df_dic.items():\n",
        "  input_sub = torch.tensor(df.values)\n",
        "  sequence.append(input_sub)\n",
        "  # input = torch.cat((input, input_sub),0)\n",
        "\n",
        "\n",
        "\n",
        "# padded_df = pad_sequence(sequence, batch_first=True)\n",
        "# packed_padded_df = pack_padded_sequence(padded_df, seq_len, batch_first=True, enforce_sorted=False)\n",
        "# assert packed_padded_df[0].size() == week_df.shape)\n",
        "\n",
        "\n",
        "class MyData(Dataset):\n",
        "    def __init__(self, data):\n",
        "        self.data = data\n",
        "\n",
        "    def __len__(self):\n",
        "        return len(self.data)\n",
        "\n",
        "    def __getitem__(self, idx):\n",
        "        return self.data[idx]\n",
        "\n",
        "def collate_fn(data):\n",
        "    data.sort(key=lambda x: len(x), reverse=True)\n",
        "    seq_len = [s.size(0) for s in data]\n",
        "    padded_df = pad_sequence(data, batch_first=True, padding_value=0)\n",
        "    packed_padded_df = pack_padded_sequence(padded_df, seq_len, batch_first=True)\n",
        "    return packed_padded_df\n",
        "\n",
        "# a = torch.tensor([1,2,3,4])\n",
        "# b = torch.tensor([5,6,7])\n",
        "# c = torch.tensor([7,8])\n",
        "# d = torch.tensor([9])\n",
        "# train_x = [a, b, c, d]\n",
        "train_x = sequence\n",
        "\n",
        "data = MyData(train_x)\n",
        "# data = Dataset()\n",
        "data_loader = DataLoader(data, batch_size=20, shuffle=True, collate_fn=collate_fn)\n",
        "# 采用默认的 collate_fn 会报错\n",
        "#data_loader = DataLoader(data, batch_size=2, shuffle=True) \n",
        "batch_x = iter(data_loader).next()\n",
        "print(len(data_loader))"
      ],
      "metadata": {
        "colab": {
          "base_uri": "https://localhost:8080/"
        },
        "id": "aCm_lOcZp6C2",
        "outputId": "f59fe30c-d5d4-4ac2-bba5-4f2ff23a2e7d"
      },
      "execution_count": null,
      "outputs": [
        {
          "output_type": "stream",
          "name": "stdout",
          "text": [
            "50\n"
          ]
        }
      ]
    },
    {
      "cell_type": "code",
      "source": [
        "pad_packed_sequence(batch_x, batch_first=True)[0].shape"
      ],
      "metadata": {
        "colab": {
          "base_uri": "https://localhost:8080/"
        },
        "id": "-VmiK9Zf9oc8",
        "outputId": "b82ffe08-c6d4-4871-b30d-413d8d823dea"
      },
      "execution_count": null,
      "outputs": [
        {
          "output_type": "execute_result",
          "data": {
            "text/plain": [
              "torch.Size([20, 72, 668])"
            ]
          },
          "metadata": {},
          "execution_count": 198
        }
      ]
    },
    {
      "cell_type": "markdown",
      "source": [
        "### lstm-predict GQ"
      ],
      "metadata": {
        "id": "WhzMgkvHaimm"
      }
    },
    {
      "cell_type": "code",
      "source": [
        "# import torch\n",
        "# from torch import nn\n",
        "# import torch.nn.functional as F\n",
        "\n",
        "# if torch.cuda.is_available():\n",
        "#     print('Found GPU')\n",
        "# else:\n",
        "#     print('Did not find GPU')\n",
        "# device = 'gpu'"
      ],
      "metadata": {
        "id": "UOQ7WItI571c",
        "colab": {
          "base_uri": "https://localhost:8080/"
        },
        "outputId": "58688ba4-0265-45c2-8e82-0cb8a43c1bc3"
      },
      "execution_count": null,
      "outputs": [
        {
          "output_type": "stream",
          "name": "stdout",
          "text": [
            "Did not find GPU\n"
          ]
        }
      ]
    },
    {
      "cell_type": "code",
      "source": [
        "import torch\n",
        "\n",
        "# input_size = len(feature_names)      # 输入的维度，就是我们word_embedding的长度128\n",
        "input_size = 1      # 输入的维度，就是我们word_embedding的长度128\n",
        "\n",
        "hidden_size = 64      # 隐层状态的维数：（每个LSTM单元或者时间步的输出的ht的维度，单元内部有权重与偏差计算）\n",
        "num_layers = 1 # RNN层的个数：（在竖直方向堆叠的多个相同个数单元的层数）\n",
        "seq_len = 984 # 序列长度（100天！！！！）\n",
        "batch_size = 4 # 一次喂几个users\n",
        "\n",
        "lstm = torch.nn.LSTM(input_size, hidden_size, num_layers)\n",
        "# assert input.shape = [seq_len, batch_size, input_size]      # 函数没定义，就是从data中取batch条数据，input的shape：[seq_len, batch_size, input_size]=[MAX_LEN+2, batch, 128]\n",
        "output, hidden = lstm(input)      # Pytorch的LSTM会自己初始化hidden，因此hidden不写一样\n",
        "\n",
        "output1 = output[-1]      # 取最后一层的输出作为最终输出，因为只有一层LSTM，output[-1]==output[0]\n",
        "print(output.shape)\n",
        "# RETURN: [seq_len, batch_size, hidden_size]"
      ],
      "metadata": {
        "id": "GWyCHbmj5ewG",
        "colab": {
          "base_uri": "https://localhost:8080/"
        },
        "outputId": "3200abf4-69e4-4b52-e035-0d9bff21c19e"
      },
      "execution_count": null,
      "outputs": [
        {
          "output_type": "stream",
          "name": "stdout",
          "text": [
            "torch.Size([984, 4, 64])\n"
          ]
        }
      ]
    },
    {
      "cell_type": "code",
      "source": [
        "output.shape"
      ],
      "metadata": {
        "colab": {
          "base_uri": "https://localhost:8080/"
        },
        "id": "tdzPBZxXfyWv",
        "outputId": "3199f052-e845-43ec-8dcc-1d08e63a86eb"
      },
      "execution_count": null,
      "outputs": [
        {
          "output_type": "execute_result",
          "data": {
            "text/plain": [
              "torch.Size([984, 4, 64])"
            ]
          },
          "metadata": {},
          "execution_count": 51
        }
      ]
    },
    {
      "cell_type": "markdown",
      "source": [
        "### lstm-supervised GQ"
      ],
      "metadata": {
        "id": "l_SebfTzhaZ4"
      }
    },
    {
      "cell_type": "code",
      "source": [
        "input_demo = pad_packed_sequence(batch_x, batch_first=True)[0].shape"
      ],
      "metadata": {
        "colab": {
          "base_uri": "https://localhost:8080/",
          "height": 166
        },
        "id": "bD5fqF0i7JFZ",
        "outputId": "2179b609-22bb-4d6c-9a5b-24d35d4404fb"
      },
      "execution_count": null,
      "outputs": [
        {
          "output_type": "error",
          "ename": "NameError",
          "evalue": "ignored",
          "traceback": [
            "\u001b[0;31m---------------------------------------------------------------------------\u001b[0m",
            "\u001b[0;31mNameError\u001b[0m                                 Traceback (most recent call last)",
            "\u001b[0;32m<ipython-input-1-19a3a53b3424>\u001b[0m in \u001b[0;36m<module>\u001b[0;34m()\u001b[0m\n\u001b[0;32m----> 1\u001b[0;31m \u001b[0minput_demo\u001b[0m \u001b[0;34m=\u001b[0m \u001b[0mpad_packed_sequence\u001b[0m\u001b[0;34m(\u001b[0m\u001b[0mbatch_x\u001b[0m\u001b[0;34m,\u001b[0m \u001b[0mbatch_first\u001b[0m\u001b[0;34m=\u001b[0m\u001b[0;32mTrue\u001b[0m\u001b[0;34m)\u001b[0m\u001b[0;34m[\u001b[0m\u001b[0;36m0\u001b[0m\u001b[0;34m]\u001b[0m\u001b[0;34m.\u001b[0m\u001b[0mshape\u001b[0m\u001b[0;34m\u001b[0m\u001b[0;34m\u001b[0m\u001b[0m\n\u001b[0m",
            "\u001b[0;31mNameError\u001b[0m: name 'pad_packed_sequence' is not defined"
          ]
        }
      ]
    },
    {
      "cell_type": "code",
      "source": [
        "class LSTMTagger(nn.Module):\n",
        "\n",
        "    def __init__(self, input_size, hidden_size, num_layers, tagset_size):\n",
        "        super(LSTMTagger, self).__init__()\n",
        "        # self.hidden_dim = hidden_dim\n",
        "\n",
        "        # self.word_embeddings = nn.Embedding(vocab_size, embedding_dim)\n",
        "\n",
        "        # The LSTM takes word embeddings as inputs, and outputs hidden states\n",
        "        # with dimensionality hidden_dim.\n",
        "        self.lstm = nn.LSTM(input_size, hidden_size, num_layers)\n",
        "\n",
        "        # The linear layer that maps from hidden state space to tag space\n",
        "        self.hidden2tag = nn.Linear(hidden_size, tagset_size)\n",
        "\n",
        "    def forward(self, input):\n",
        "        # embeds = self.word_embeddings(sentence)\n",
        "        lstm_out, _ = self.lstm(input) \n",
        "        # assert input.shape = [seq_len, batch_size, input_size] = [72, 20, 668]\n",
        "        tag_space = self.hidden2tag(lstm_out)\n",
        "        tag_scores = F.log_softmax(tag_space, dim=1)\n",
        "        return tag_scores"
      ],
      "metadata": {
        "id": "Vbcc0v0BhXeh"
      },
      "execution_count": null,
      "outputs": []
    },
    {
      "cell_type": "code",
      "source": [
        "input_size = 984      # 输入的维度，就是我们word_embedding的长度128\n",
        "hidden_size = 64      # 隐层状态的维数：（每个LSTM单元或者时间步的输出的ht的维度，单元内部有权重与偏差计算）\n",
        "num_layers = 1 # RNN层的个数：（在竖直方向堆叠的多个相同个数单元的层数）\n",
        "seq_len = 72 # 序列长度（100天！！！！）\n",
        "batch_size = 4 # 一次喂几个users\n",
        "tagset_size = 2 # 0 / 1\n",
        "\n",
        "model = LSTMTagger(input_size, hidden_size, num_layers, tagset_size)\n",
        "loss_function = nn.NLLLoss()\n",
        "optimizer = torch.optim.SGD(model.parameters(), lr=0.1)\n",
        "\n",
        "# See what the scores are before training\n",
        "# Note that element i,j of the output is the score for tag j for word i.\n",
        "# Here we don't need to train, so the code is wrapped in torch.no_grad()\n",
        "with torch.no_grad():\n",
        "    for batch in tqdm.tqdm_notebook(data_loader):\n",
        "        inputs = batch\n",
        "        # inputs = prepare_sequence(training_data[0][0], word_to_ix)\n",
        "        tag_scores = model(inputs)\n",
        "        print(tag_scores)\n",
        "\n",
        "for epoch in range(300):  # again, normally you would NOT do 300 epochs, it is toy data\n",
        "    for batch in tqdm.tqdm_notebook(data_loader, leave=False):\n",
        "    for sentence, tags in training_data:\n",
        "        # Step 1. Remember that Pytorch accumulates gradients.\n",
        "        # We need to clear them out before each instance\n",
        "        model.zero_grad()\n",
        "\n",
        "        # Step 2. Get our inputs ready for the network, that is, turn them into\n",
        "        # Tensors of word indices.\n",
        "        sentence_in = prepare_sequence(sentence, word_to_ix)\n",
        "        targets = prepare_sequence(tags, tag_to_ix)\n",
        "\n",
        "        # Step 3. Run our forward pass.\n",
        "        tag_scores = model(sentence_in)\n",
        "\n",
        "        # Step 4. Compute the loss, gradients, and update the parameters by\n",
        "        #  calling optimizer.step()\n",
        "        loss = loss_function(tag_scores, targets)\n",
        "        loss.backward()\n",
        "        optimizer.step()\n",
        "\n",
        "# See what the scores are after training\n",
        "with torch.no_grad():\n",
        "    # inputs = prepare_sequence(training_data[0][0], word_to_ix)\n",
        "    tag_scores = model(inputs)\n",
        "\n",
        "    # The sentence is \"the dog ate the apple\".  i,j corresponds to score for tag j\n",
        "    # for word i. The predicted tag is the maximum scoring tag.\n",
        "    # Here, we can see the predicted sequence below is 0 1 2 0 1\n",
        "    # since 0 is index of the maximum value of row 1,\n",
        "    # 1 is the index of maximum value of row 2, etc.\n",
        "    # Which is DET NOUN VERB DET NOUN, the correct sequence!\n",
        "    print(tag_scores)"
      ],
      "metadata": {
        "colab": {
          "base_uri": "https://localhost:8080/",
          "height": 235
        },
        "id": "09fZk6dAhoBY",
        "outputId": "68e34087-b7b3-4f51-c775-06dcf711006b"
      },
      "execution_count": null,
      "outputs": [
        {
          "output_type": "error",
          "ename": "NameError",
          "evalue": "ignored",
          "traceback": [
            "\u001b[0;31m---------------------------------------------------------------------------\u001b[0m",
            "\u001b[0;31mNameError\u001b[0m                                 Traceback (most recent call last)",
            "\u001b[0;32m<ipython-input-59-ee2f15775422>\u001b[0m in \u001b[0;36m<module>\u001b[0;34m()\u001b[0m\n\u001b[1;32m     14\u001b[0m \u001b[0;31m# Here we don't need to train, so the code is wrapped in torch.no_grad()\u001b[0m\u001b[0;34m\u001b[0m\u001b[0;34m\u001b[0m\u001b[0;34m\u001b[0m\u001b[0m\n\u001b[1;32m     15\u001b[0m \u001b[0;32mwith\u001b[0m \u001b[0mtorch\u001b[0m\u001b[0;34m.\u001b[0m\u001b[0mno_grad\u001b[0m\u001b[0;34m(\u001b[0m\u001b[0;34m)\u001b[0m\u001b[0;34m:\u001b[0m\u001b[0;34m\u001b[0m\u001b[0;34m\u001b[0m\u001b[0m\n\u001b[0;32m---> 16\u001b[0;31m     \u001b[0minputs\u001b[0m \u001b[0;34m=\u001b[0m \u001b[0mprepare_sequence\u001b[0m\u001b[0;34m(\u001b[0m\u001b[0mtraining_data\u001b[0m\u001b[0;34m[\u001b[0m\u001b[0;36m0\u001b[0m\u001b[0;34m]\u001b[0m\u001b[0;34m[\u001b[0m\u001b[0;36m0\u001b[0m\u001b[0;34m]\u001b[0m\u001b[0;34m,\u001b[0m \u001b[0mword_to_ix\u001b[0m\u001b[0;34m)\u001b[0m\u001b[0;34m\u001b[0m\u001b[0;34m\u001b[0m\u001b[0m\n\u001b[0m\u001b[1;32m     17\u001b[0m     \u001b[0mtag_scores\u001b[0m \u001b[0;34m=\u001b[0m \u001b[0mmodel\u001b[0m\u001b[0;34m(\u001b[0m\u001b[0minputs\u001b[0m\u001b[0;34m)\u001b[0m\u001b[0;34m\u001b[0m\u001b[0;34m\u001b[0m\u001b[0m\n\u001b[1;32m     18\u001b[0m     \u001b[0mprint\u001b[0m\u001b[0;34m(\u001b[0m\u001b[0mtag_scores\u001b[0m\u001b[0;34m)\u001b[0m\u001b[0;34m\u001b[0m\u001b[0;34m\u001b[0m\u001b[0m\n",
            "\u001b[0;31mNameError\u001b[0m: name 'prepare_sequence' is not defined"
          ]
        }
      ]
    },
    {
      "cell_type": "markdown",
      "source": [
        "### diy lstm GQ"
      ],
      "metadata": {
        "id": "CaWc8MT-fOqG"
      }
    },
    {
      "cell_type": "code",
      "source": [
        "my_array = np.array(data)\n",
        "input = torch.tensor(my_array)\n",
        "input = input.permute(1,0,2)\n",
        "input.shape\n",
        "\n",
        "input = input.to(torch.float32)\n"
      ],
      "metadata": {
        "colab": {
          "base_uri": "https://localhost:8080/"
        },
        "id": "HlO_7I4md70u",
        "outputId": "611cfd00-a54d-4a1e-fdb0-8e6fa352ae22"
      },
      "execution_count": null,
      "outputs": [
        {
          "output_type": "execute_result",
          "data": {
            "text/plain": [
              "torch.Size([984, 4, 1])"
            ]
          },
          "metadata": {},
          "execution_count": 46
        }
      ]
    },
    {
      "cell_type": "code",
      "source": [
        "class NaiveLSTM(nn.Module):\n",
        "    \"\"\"Naive LSTM like nn.LSTM\"\"\"\n",
        "    def __init__(self, input_size: int, hidden_size: int):\n",
        "        super(NaiveLSTM, self).__init__()\n",
        "        self.input_size = input_size\n",
        "        self.hidden_size = hidden_size\n",
        "\n",
        "        # 输入门的权重矩阵和bias矩阵\n",
        "        self.w_ii = Parameter(Tensor(hidden_size, input_size))\n",
        "        self.w_hi = Parameter(Tensor(hidden_size, hidden_size))\n",
        "        self.b_ii = Parameter(Tensor(hidden_size, 1))\n",
        "        self.b_hi = Parameter(Tensor(hidden_size, 1))\n",
        "\n",
        "        # 遗忘门的权重矩阵和bias矩阵\n",
        "        self.w_if = Parameter(Tensor(hidden_size, input_size))\n",
        "        self.w_hf = Parameter(Tensor(hidden_size, hidden_size))\n",
        "        self.b_if = Parameter(Tensor(hidden_size, 1))\n",
        "        self.b_hf = Parameter(Tensor(hidden_size, 1))\n",
        "\n",
        "        # 输出门的权重矩阵和bias矩阵\n",
        "        self.w_io = Parameter(Tensor(hidden_size, input_size))\n",
        "        self.w_ho = Parameter(Tensor(hidden_size, hidden_size))\n",
        "        self.b_io = Parameter(Tensor(hidden_size, 1))\n",
        "        self.b_ho = Parameter(Tensor(hidden_size, 1))\n",
        "        \n",
        "        # cell的的权重矩阵和bias矩阵\n",
        "        self.w_ig = Parameter(Tensor(hidden_size, input_size))\n",
        "        self.w_hg = Parameter(Tensor(hidden_size, hidden_size))\n",
        "        self.b_ig = Parameter(Tensor(hidden_size, 1))\n",
        "        self.b_hg = Parameter(Tensor(hidden_size, 1))\n",
        "\n",
        "        self.reset_weigths()\n",
        "\n",
        "    def reset_weigths(self):\n",
        "        \"\"\"reset weights\n",
        "        \"\"\"\n",
        "        stdv = 1.0 / math.sqrt(self.hidden_size)\n",
        "        for weight in self.parameters():\n",
        "            init.uniform_(weight, -stdv, stdv)\n",
        "\n",
        "    def forward(self, inputs: Tensor, state: Tuple[Tensor]) \\\n",
        "        -> Tuple[Tensor, Tuple[Tensor, Tensor]]:\n",
        "#       ->用来提示该函数返回值的数据类型\n",
        "        \"\"\"Forward\n",
        "        Args:\n",
        "            inputs: [1, 1, input_size]\n",
        "            state: ([1, 1, hidden_size], [1, 1, hidden_size])\n",
        "        \"\"\"\n",
        "\n",
        "#         batch_size, seq_size , _ = inputs.size()\n",
        "\n",
        "        if state is None:\n",
        "            h_t = torch.zeros(1, self.hidden_size).t()\n",
        "            c_t = torch.zeros(1, self.hidden_size).t()\n",
        "        else:\n",
        "            (h, c) = state\n",
        "            h_t = h.squeeze(0).t()\n",
        "            c_t = c.squeeze(0).t()\n",
        "\n",
        "        hidden_seq = []\n",
        "\n",
        "        seq_size = 1\n",
        "        for t in range(seq_size):\n",
        "            x = inputs[:, t, :].t()\n",
        "            # input gate\n",
        "            i = torch.sigmoid(self.w_ii @ x + self.b_ii + self.w_hi @ h_t +\n",
        "                              self.b_hi)\n",
        "            # forget gate\n",
        "            f = torch.sigmoid(self.w_if @ x + self.b_if + self.w_hf @ h_t +\n",
        "                              self.b_hf)\n",
        "            # cell\n",
        "            g = torch.tanh(self.w_ig @ x + self.b_ig + self.w_hg @ h_t\n",
        "                           + self.b_hg)\n",
        "            # output gate\n",
        "            o = torch.sigmoid(self.w_io @ x + self.b_io + self.w_ho @ h_t +\n",
        "                              self.b_ho)\n",
        "            \n",
        "            c_next = f * c_t + i * g\n",
        "            h_next = o * torch.tanh(c_next)\n",
        "            c_next_t = c_next.t().unsqueeze(0)\n",
        "            h_next_t = h_next.t().unsqueeze(0)\n",
        "            hidden_seq.append(h_next_t)\n",
        "\n",
        "        hidden_seq = torch.cat(hidden_seq, dim=0)\n",
        "        return hidden_seq, (h_next_t, c_next_t)\n"
      ],
      "metadata": {
        "id": "Y5DJVP81fRdM"
      },
      "execution_count": null,
      "outputs": []
    },
    {
      "cell_type": "markdown",
      "source": [
        "### ?"
      ],
      "metadata": {
        "id": "h54zicvPfND7"
      }
    },
    {
      "cell_type": "code",
      "source": [
        "# 10：输入数据维度大小  20 ：隐状态的特征维度  2：层数，表示用来两层lstm\n",
        "lstm = nn.LSTM(10, 20, 2)\n",
        "# 5：序列长度 3：单个训练数据长度  10：单个序列维度  举个例子：每次运行时取3个含有5个字的句子（且句子中每个字的维度为10）\n",
        "input = Variable(torch.randn(5, 3, 10))\n",
        "# 2个LSTM层，batch_size=3, 隐藏层的特征维度20\n",
        "h0 = Variable(torch.randn(2, 3, 20))\n",
        "# 2个LSTM层，batch_size=3, 隐藏层的特征维度20\n",
        "# 这里有2层lstm，output是最后一层lstm的每个词向量对应隐藏层的输出,其与层数无关，只与序列长度相关\n",
        "\n",
        "c0 = Variable(torch.randn(2, 3, 20))\n",
        "# \n",
        "# output, hn = lstm(input, (h0, c0))"
      ],
      "metadata": {
        "id": "aqitp8ZO8T3U"
      },
      "execution_count": null,
      "outputs": []
    },
    {
      "cell_type": "code",
      "source": [
        "class RNN(nn.Module):\n",
        "    def __init__(self, input_size, hidden_size, num_layers, num_classes):\n",
        "        super(RNN, self).__init__()\n",
        "        self.hidden_size = hidden_size\n",
        "        self.num_layers = num_layers\n",
        "        self.lstm = nn.LSTM(input_size, hidden_size, num_layers, \n",
        "                            batch_first=True)\n",
        "        self.fc = nn.Linear(hidden_size, num_classes)  # 2 for bidirection \n",
        "\n",
        "    def forward(self, x):\n",
        "\n",
        "        # Forward propagate RNN\n",
        "        out, _ = self.lstm(x)\n",
        "\n",
        "        # Decode hidden state of last time step\n",
        "        out = self.fc(out[:, -1, :])\n",
        "        return out\n",
        "\n",
        "rnn = RNN(input_size, hidden_size, num_layers, num_classes)\n",
        "# rnn.cuda()"
      ],
      "metadata": {
        "id": "TOyQtYyb8UrG"
      },
      "execution_count": null,
      "outputs": []
    },
    {
      "cell_type": "markdown",
      "source": [
        "## Isolation Forest"
      ],
      "metadata": {
        "id": "fbQVBbtxl6WU"
      }
    },
    {
      "cell_type": "code",
      "source": [
        "from sklearn.ensemble import IsolationForest\n",
        "\n",
        "def IsolationForestModel():\n",
        "    IF = IsolationForest(n_estimators=200, \n",
        "                         max_samples=256)\n",
        "    IF.fit(xTest)\n",
        "    IF_score = IF.decision_function(xTest)\n",
        "    print('Detection rate at different budgets:')\n",
        "    for ib in [0.001, 0.01, 0.05, 0.1, 0.2]:\n",
        "        threshold = np.percentile(IF_score, 100*ib)\n",
        "        flagged = np.where(IF_score<threshold)[0]\n",
        "        dr = sum(yTestBin[flagged]>0)/sum(yTestBin>0)\n",
        "        print(f'{100*ib}%, DR = {100*dr:.2f}%')"
      ],
      "metadata": {
        "id": "nj_cN_M5qSdH"
      },
      "execution_count": null,
      "outputs": []
    },
    {
      "cell_type": "markdown",
      "source": [
        "## AutoEncoder"
      ],
      "metadata": {
        "id": "hHAL0EaEl5l2"
      }
    },
    {
      "cell_type": "code",
      "source": [
        "from sklearn.neural_network import MLPRegressor\n",
        "from sklearn.metrics.pairwise import paired_distances\n",
        "from sklearn.preprocessing import StandardScaler\n",
        "\n",
        "def AutoEncoderModel(xTrain):\n",
        "    \n",
        "    scaler = StandardScaler()\n",
        "    xTrain = scaler.fit_transform(xTrain)\n",
        "\n",
        "    l = len(feature_names)\n",
        "    ae = MLPRegressor(hidden_layer_sizes = (int(l/4), int(l/8), int(l/4)),\n",
        "                      activation = 'tanh',\n",
        "                      max_iter = 50, \n",
        "                      random_state = 10)\n",
        "\n",
        "    ae.fit(xTrain, xTrain)\n",
        "    reconstructionError = paired_distances(xTrain, ae.predict(xTrain))\n",
        "    return reconstructionError"
      ],
      "metadata": {
        "id": "eAgTS6NJig7U"
      },
      "execution_count": null,
      "outputs": []
    },
    {
      "cell_type": "markdown",
      "source": [
        "# Unsupervised Baseline"
      ],
      "metadata": {
        "id": "v5fDVNq6UkTd"
      }
    },
    {
      "cell_type": "code",
      "source": [
        "def investigation(yBin, score, budgets, ret):\n",
        "    threshold = np.percentile(score, 100-100*budgets)\n",
        "    flagged = np.where(score <=threshold)[0]\n",
        "    yIB = yBin.copy()\n",
        "    yIB[flagged] = 0\n",
        "    if not ret:\n",
        "        dr = sum(yIB)/sum(yBin)\n",
        "        return dr\n",
        "    else:\n",
        "        return yIB"
      ],
      "metadata": {
        "id": "t0l6zQTDUnnM"
      },
      "execution_count": null,
      "outputs": []
    },
    {
      "cell_type": "code",
      "source": [
        "AE_baseline = AutoEncoderModel(X)\n",
        "acu_curve(yBin, AE_baseline)"
      ],
      "metadata": {
        "id": "oYscCS7mewIR",
        "colab": {
          "base_uri": "https://localhost:8080/",
          "height": 676
        },
        "outputId": "8fa4faab-8d03-4eb6-8390-fb7b479c8da2"
      },
      "execution_count": null,
      "outputs": [
        {
          "output_type": "stream",
          "name": "stderr",
          "text": [
            "/usr/local/lib/python3.7/dist-packages/sklearn/neural_network/_multilayer_perceptron.py:696: ConvergenceWarning: Stochastic Optimizer: Maximum iterations (50) reached and the optimization hasn't converged yet.\n",
            "  ConvergenceWarning,\n"
          ]
        },
        {
          "output_type": "display_data",
          "data": {
            "image/png": "[encoded data removed]",
            "text/plain": [
              "<Figure size 720x720 with 1 Axes>"
            ]
          },
          "metadata": {
            "needs_background": "light"
          }
        }
      ]
    },
    {
      "cell_type": "code",
      "source": [
        "AE_baseline_dr = []\n",
        "for ib in [0.001, 0.01, 0.05, 0.1]:\n",
        "    dr = investigation(yBin, AE_baseline, ib, ret = False)\n",
        "    AE_baseline_dr.append(dr)\n",
        "    print(f'{100*ib}%, DR = {100*dr:.2f}%')\n",
        "    "
      ],
      "metadata": {
        "colab": {
          "base_uri": "https://localhost:8080/"
        },
        "id": "CRR2-EIgg0fq",
        "outputId": "17ce23b8-30e1-4370-e846-d41294d6c781"
      },
      "execution_count": null,
      "outputs": [
        {
          "output_type": "stream",
          "name": "stdout",
          "text": [
            "0.1%, DR = 4.21%\n",
            "1.0%, DR = 10.18%\n",
            "5.0%, DR = 25.61%\n",
            "10.0%, DR = 35.79%\n"
          ]
        }
      ]
    },
    {
      "cell_type": "markdown",
      "source": [
        "# Unsupervised Investigation Budget "
      ],
      "metadata": {
        "id": "47wuG1EqUoPE"
      }
    },
    {
      "cell_type": "code",
      "source": [
        "AE_IB = AutoEncoderModel(xTrain)"
      ],
      "metadata": {
        "id": "D_UNS92PjfeZ",
        "colab": {
          "base_uri": "https://localhost:8080/"
        },
        "outputId": "942424df-5ea7-42b2-db00-40e7b6c509f5"
      },
      "execution_count": null,
      "outputs": [
        {
          "output_type": "stream",
          "name": "stderr",
          "text": [
            "/usr/local/lib/python3.7/dist-packages/sklearn/neural_network/_multilayer_perceptron.py:696: ConvergenceWarning: Stochastic Optimizer: Maximum iterations (50) reached and the optimization hasn't converged yet.\n",
            "  ConvergenceWarning,\n"
          ]
        }
      ]
    },
    {
      "cell_type": "markdown",
      "source": [
        "# Validation"
      ],
      "metadata": {
        "id": "4q15qf0Mk5ue"
      }
    },
    {
      "cell_type": "code",
      "source": [
        "from sklearn.metrics import recall_score, classification_report, f1_score, accuracy_score\n",
        "from sklearn.model_selection import PredefinedSplit, RandomizedSearchCV, TimeSeriesSplit\n",
        "\n",
        "def ML_train(ML_model, ML_hyper, XTrain, yTrain):\n",
        "    \n",
        "    RS = RandomizedSearchCV(\n",
        "        ML_model, \n",
        "        ML_hyper, \n",
        "        n_iter = 5,\n",
        "        refit = \"f1_macro\",\n",
        "        cv = TimeSeriesSplit(), \n",
        "        # scoring=[\"f1_macro\", \"f1_micro\",\"roc_auc\", \"precision\", \"recall\"],\n",
        "        scoring = [\"f1_macro\", \"f1_micro\"],\n",
        "        random_state = 0)\n",
        "\n",
        "    RS.fit(XTrain, yTrain)\n",
        "\n",
        "    print('Best Parameters:')\n",
        "    print(RS.best_params_)\n",
        "\n",
        "    return RS"
      ],
      "metadata": {
        "id": "4Oodje2xlLgQ"
      },
      "execution_count": null,
      "outputs": []
    },
    {
      "cell_type": "markdown",
      "source": [
        "# Testing"
      ],
      "metadata": {
        "id": "lyxLey0GlMAp"
      }
    },
    {
      "cell_type": "code",
      "source": [
        "def prediction(ML_model, xTest, yBin, yTrainIB):\n",
        "\n",
        "    # ML model pred\n",
        "    y_ML_pred = ML_model.predict(xTest)\n",
        "    # Consider the first Unsupervised model part\n",
        "    y_pred = np.concatenate((yTrainIB, y_ML_pred))\n",
        "    report = classification_report(yBin, y_pred, output_dict=True)\n",
        "\n",
        "    return report['True']\n",
        "    # return recall_score(yBin, y_pred)\n",
        "\n",
        "    # y_score = ML_model.predict_proba(xTest)\n",
        "    # acu_curve(yTest, pd.DataFrame(y_score)[1])"
      ],
      "metadata": {
        "id": "sQOqlWlPlN5c"
      },
      "execution_count": null,
      "outputs": []
    },
    {
      "cell_type": "code",
      "source": [
        "from collections import defaultdict\n",
        "\n",
        "RF_pred = defaultdict(list)\n",
        "XGB_pred = defaultdict(list)\n",
        "\n",
        "for i, ib in tqdm(enumerate([0.002, 0.02, 0.1, 0.2])):\n",
        "    yTrainIB = investigation(yTrainBin, AE_IB, ib, ret = True)\n",
        "\n",
        "    RF = ML_train(RandomForestModel()[0], RandomForestModel()[1], xTrain, yTrainIB)\n",
        "    XGB = ML_train(XGBoostModel()[0], XGBoostModel()[1], xTrain, yTrainIB)\n",
        "\n",
        "    RF_metrics = prediction(RF, xTest, yBin, yTrainIB)\n",
        "    XGB_metrics = prediction(XGB, xTest, yBin, yTrainIB)\n",
        "    for key, values in RF_metrics.items():\n",
        "      RF_pred[key].append(values)\n",
        "    for key, values in XGB_metrics.items():\n",
        "      XGB_pred[key].append(values)"
      ],
      "metadata": {
        "colab": {
          "base_uri": "https://localhost:8080/"
        },
        "id": "k1-tY5XJF0av",
        "outputId": "a55d89b0-307c-4906-e4b0-eec45c8d6a82"
      },
      "execution_count": null,
      "outputs": [
        {
          "output_type": "stream",
          "name": "stderr",
          "text": [
            "\r0it [00:00, ?it/s]"
          ]
        },
        {
          "output_type": "stream",
          "name": "stdout",
          "text": [
            "Best Parameters:\n",
            "{'n_estimators': 300, 'max_depth': 6}\n",
            "Best Parameters:\n",
            "{'subsample': 0.5, 'n_estimators': 100, 'max_depth': 6, 'colsample_bytree': 0.7}\n"
          ]
        },
        {
          "output_type": "stream",
          "name": "stderr",
          "text": [
            "\r1it [03:05, 185.55s/it]"
          ]
        },
        {
          "output_type": "stream",
          "name": "stdout",
          "text": [
            "Best Parameters:\n",
            "{'n_estimators': 200, 'max_depth': 4}\n",
            "Best Parameters:\n",
            "{'subsample': 0.5, 'n_estimators': 100, 'max_depth': 6, 'colsample_bytree': 0.7}\n"
          ]
        },
        {
          "output_type": "stream",
          "name": "stderr",
          "text": [
            "\r2it [06:20, 191.16s/it]"
          ]
        },
        {
          "output_type": "stream",
          "name": "stdout",
          "text": [
            "Best Parameters:\n",
            "{'n_estimators': 200, 'max_depth': 4}\n",
            "Best Parameters:\n",
            "{'subsample': 0.9, 'n_estimators': 400, 'max_depth': 4, 'colsample_bytree': 0.3}\n"
          ]
        },
        {
          "output_type": "stream",
          "name": "stderr",
          "text": [
            "\r3it [10:50, 227.24s/it]"
          ]
        },
        {
          "output_type": "stream",
          "name": "stdout",
          "text": [
            "Best Parameters:\n",
            "{'n_estimators': 200, 'max_depth': 4}\n",
            "Best Parameters:\n",
            "{'subsample': 0.7, 'n_estimators': 500, 'max_depth': 4, 'colsample_bytree': 0.9}\n"
          ]
        },
        {
          "output_type": "stream",
          "name": "stderr",
          "text": [
            "4it [15:32, 233.04s/it]\n"
          ]
        }
      ]
    },
    {
      "cell_type": "code",
      "source": [
        "from matplotlib import pyplot as plt\n",
        "plt.figure(figsize=(15,5))\n",
        "\n",
        "plt.subplot(121)\n",
        "# np.array(AE_baseline_dr)*xTrain.shape[0]/X.shape[0]\n",
        "plt.plot([0.001, 0.01, 0.05, 0.1], np.array(AE_baseline_dr), color = 'r', label = 'AE Baseline', marker='o')\n",
        "plt.plot([0.001, 0.01, 0.05, 0.1], RF_pred[\"recall\"], color = 'g', label = 'RF', marker='v')\n",
        "plt.plot([0.001, 0.01, 0.05, 0.1], XGB_pred[\"recall\"], color = 'b', label = 'XGB', marker='s')\n",
        "\n",
        "plt.grid(linestyle='--')\n",
        "plt.legend(loc='upper left')\n",
        "plt.xlabel('Investigation Budget (IB)')\n",
        "plt.ylabel('Detection Rate (Recall)')\n",
        "plt.title('Detection Rate (Recall)')\n",
        "\n",
        "plt.subplot(122)\n",
        "plt.plot([0.001, 0.01, 0.05, 0.1], RF_pred[\"f1-score\"], color = 'g', label = 'RF', marker='v')\n",
        "plt.plot([0.001, 0.01, 0.05, 0.1], XGB_pred[\"f1-score\"], color = 'b', label = 'XGB', marker='s')\n",
        "\n",
        "plt.grid(linestyle='--')\n",
        "plt.legend(loc='upper left')\n",
        "plt.xlabel('Investigation Budget (IB)')\n",
        "plt.ylabel('F1 Score')\n",
        "plt.title('F1 Score')"
      ],
      "metadata": {
        "id": "YHVmry7wHJgw",
        "colab": {
          "base_uri": "https://localhost:8080/",
          "height": 367
        },
        "outputId": "56de2de6-54d1-4467-c31d-6c9a0626c974"
      },
      "execution_count": null,
      "outputs": [
        {
          "output_type": "execute_result",
          "data": {
            "text/plain": [
              "Text(0.5, 1.0, 'F1 Score')"
            ]
          },
          "metadata": {},
          "execution_count": 22
        },
        {
          "output_type": "display_data",
          "data": {
            "image/png": "[encoded data removed]",
            "text/plain": [
              "<Figure size 1080x360 with 2 Axes>"
            ]
          },
          "metadata": {
            "needs_background": "light"
          }
        }
      ]
    },
    {
      "cell_type": "code",
      "source": [
        "RF_pred"
      ],
      "metadata": {
        "id": "tU-_-JgWryAf",
        "colab": {
          "base_uri": "https://localhost:8080/"
        },
        "outputId": "4a46ea48-adbf-4a13-dea5-8339704c9e41"
      },
      "execution_count": null,
      "outputs": [
        {
          "output_type": "execute_result",
          "data": {
            "text/plain": [
              "defaultdict(list,\n",
              "            {'f1-score': [0.013937282229965157,\n",
              "              0.13114754098360656,\n",
              "              0.425414364640884,\n",
              "              0.5117493472584856],\n",
              "             'precision': [1.0, 1.0, 1.0, 1.0],\n",
              "             'recall': [0.007017543859649123,\n",
              "              0.07017543859649122,\n",
              "              0.27017543859649124,\n",
              "              0.34385964912280703],\n",
              "             'support': [285, 285, 285, 285]})"
            ]
          },
          "metadata": {},
          "execution_count": 36
        }
      ]
    },
    {
      "cell_type": "code",
      "source": [
        "XGB_pred"
      ],
      "metadata": {
        "colab": {
          "base_uri": "https://localhost:8080/"
        },
        "id": "802f1mUgVtHr",
        "outputId": "95fa7fa4-5b11-4da8-a20a-57fbdfac51fb"
      },
      "execution_count": null,
      "outputs": [
        {
          "output_type": "execute_result",
          "data": {
            "text/plain": [
              "defaultdict(list,\n",
              "            {'f1-score': [0.013937282229965157,\n",
              "              0.09966777408637874,\n",
              "              0.40860215053763443,\n",
              "              0.4708333333333334],\n",
              "             'precision': [1.0,\n",
              "              0.9375,\n",
              "              0.8735632183908046,\n",
              "              0.5794871794871795],\n",
              "             'recall': [0.007017543859649123,\n",
              "              0.05263157894736842,\n",
              "              0.26666666666666666,\n",
              "              0.39649122807017545],\n",
              "             'support': [285, 285, 285, 285]})"
            ]
          },
          "metadata": {},
          "execution_count": 37
        }
      ]
    },
    {
      "cell_type": "code",
      "source": [
        ""
      ],
      "metadata": {
        "id": "2hbTnCstVw40"
      },
      "execution_count": null,
      "outputs": []
    }
  ]
}